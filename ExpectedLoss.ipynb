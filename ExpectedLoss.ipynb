{
 "cells": [
  {
   "cell_type": "markdown",
   "id": "36b7f66d-c227-422a-aed4-11f9200ecd6a",
   "metadata": {},
   "source": [
    "# <h1><center>**`Expected Loss`**</center></h1>"
   ]
  },
  {
   "cell_type": "code",
   "execution_count": 1,
   "id": "91fecf11",
   "metadata": {
    "id": "91fecf11"
   },
   "outputs": [],
   "source": [
    "import numpy as np\n",
    "import pandas as pd"
   ]
  },
  {
   "cell_type": "code",
   "execution_count": 3,
   "id": "d5092023",
   "metadata": {
    "id": "d5092023"
   },
   "outputs": [],
   "source": [
    "pd.options.display.max_rows= None"
   ]
  },
  {
   "cell_type": "code",
   "execution_count": 5,
   "id": "un2Esmri7017",
   "metadata": {
    "id": "un2Esmri7017"
   },
   "outputs": [],
   "source": [
    "import warnings\n",
    "warnings.filterwarnings('ignore')"
   ]
  },
  {
   "cell_type": "code",
   "execution_count": 7,
   "id": "FuRqUC0P7y36",
   "metadata": {
    "id": "FuRqUC0P7y36"
   },
   "outputs": [],
   "source": [
    "load_data_inputs_train=pd.read_csv('loan_data_inputs_train.csv',index_col=0)\n",
    "load_data_targets_train=pd.read_csv('loan_data_targets_train.csv',index_col=0)\n",
    "load_data_inputs_test=pd.read_csv('loan_data_inputs_test.csv',index_col=0)\n",
    "load_data_targets_test=pd.read_csv('loan_data_targets_test.csv',index_col=0)"
   ]
  },
  {
   "cell_type": "code",
   "execution_count": 9,
   "id": "vl1dgag17-JG",
   "metadata": {
    "colab": {
     "base_uri": "https://localhost:8080/",
     "height": 237
    },
    "executionInfo": {
     "elapsed": 618,
     "status": "ok",
     "timestamp": 1672150626053,
     "user": {
      "displayName": "hrithik salampuria",
      "userId": "05313103097039078266"
     },
     "user_tz": -330
    },
    "id": "vl1dgag17-JG",
    "outputId": "2ec2b172-0e70-4851-cd43-634ff126a4df"
   },
   "outputs": [
    {
     "data": {
      "text/html": [
       "<div>\n",
       "<style scoped>\n",
       "    .dataframe tbody tr th:only-of-type {\n",
       "        vertical-align: middle;\n",
       "    }\n",
       "\n",
       "    .dataframe tbody tr th {\n",
       "        vertical-align: top;\n",
       "    }\n",
       "\n",
       "    .dataframe thead th {\n",
       "        text-align: right;\n",
       "    }\n",
       "</style>\n",
       "<table border=\"1\" class=\"dataframe\">\n",
       "  <thead>\n",
       "    <tr style=\"text-align: right;\">\n",
       "      <th></th>\n",
       "      <th>good_bad</th>\n",
       "    </tr>\n",
       "  </thead>\n",
       "  <tbody>\n",
       "    <tr>\n",
       "      <th>427211</th>\n",
       "      <td>1</td>\n",
       "    </tr>\n",
       "    <tr>\n",
       "      <th>206088</th>\n",
       "      <td>1</td>\n",
       "    </tr>\n",
       "    <tr>\n",
       "      <th>136020</th>\n",
       "      <td>1</td>\n",
       "    </tr>\n",
       "    <tr>\n",
       "      <th>412305</th>\n",
       "      <td>0</td>\n",
       "    </tr>\n",
       "    <tr>\n",
       "      <th>36159</th>\n",
       "      <td>0</td>\n",
       "    </tr>\n",
       "  </tbody>\n",
       "</table>\n",
       "</div>"
      ],
      "text/plain": [
       "        good_bad\n",
       "427211         1\n",
       "206088         1\n",
       "136020         1\n",
       "412305         0\n",
       "36159          0"
      ]
     },
     "execution_count": 9,
     "metadata": {},
     "output_type": "execute_result"
    }
   ],
   "source": [
    "load_data_targets_train.head()"
   ]
  },
  {
   "cell_type": "code",
   "execution_count": 11,
   "id": "dae4e358",
   "metadata": {
    "colab": {
     "base_uri": "https://localhost:8080/"
    },
    "executionInfo": {
     "elapsed": 2,
     "status": "ok",
     "timestamp": 1672150859975,
     "user": {
      "displayName": "hrithik salampuria",
      "userId": "05313103097039078266"
     },
     "user_tz": -330
    },
    "id": "dae4e358",
    "outputId": "2e5ec137-0f4f-45af-aa60-55bdfa11bb58"
   },
   "outputs": [
    {
     "data": {
      "text/plain": [
       "(373028, 338)"
      ]
     },
     "execution_count": 11,
     "metadata": {},
     "output_type": "execute_result"
    }
   ],
   "source": [
    "load_data_inputs_train.shape"
   ]
  },
  {
   "cell_type": "code",
   "execution_count": 13,
   "id": "6f5d54ae",
   "metadata": {
    "id": "6f5d54ae",
    "outputId": "dc7bcc77-94d1-4ccb-d801-dc5bb2cf497b"
   },
   "outputs": [
    {
     "data": {
      "text/plain": [
       "(373028, 1)"
      ]
     },
     "execution_count": 13,
     "metadata": {},
     "output_type": "execute_result"
    }
   ],
   "source": [
    "load_data_targets_train.shape"
   ]
  },
  {
   "cell_type": "code",
   "execution_count": 15,
   "id": "c1a35b69",
   "metadata": {
    "id": "c1a35b69"
   },
   "outputs": [],
   "source": [
    "load_data_inputs_train['outcome'] = load_data_targets_train"
   ]
  },
  {
   "cell_type": "code",
   "execution_count": 17,
   "id": "c0f49ca5",
   "metadata": {
    "colab": {
     "base_uri": "https://localhost:8080/"
    },
    "executionInfo": {
     "elapsed": 3,
     "status": "ok",
     "timestamp": 1672150862392,
     "user": {
      "displayName": "hrithik salampuria",
      "userId": "05313103097039078266"
     },
     "user_tz": -330
    },
    "id": "c0f49ca5",
    "outputId": "5b985ad1-a70d-4366-dc68-36e52778615a"
   },
   "outputs": [
    {
     "data": {
      "text/plain": [
       "outcome\n",
       "1    332250\n",
       "0     40778\n",
       "Name: count, dtype: int64"
      ]
     },
     "execution_count": 17,
     "metadata": {},
     "output_type": "execute_result"
    }
   ],
   "source": [
    "load_data_inputs_train['outcome'].value_counts()"
   ]
  },
  {
   "cell_type": "code",
   "execution_count": 19,
   "id": "796cb993",
   "metadata": {
    "id": "796cb993",
    "outputId": "c265695b-c929-441f-881b-976acd389702"
   },
   "outputs": [
    {
     "data": {
      "text/html": [
       "<div>\n",
       "<style scoped>\n",
       "    .dataframe tbody tr th:only-of-type {\n",
       "        vertical-align: middle;\n",
       "    }\n",
       "\n",
       "    .dataframe tbody tr th {\n",
       "        vertical-align: top;\n",
       "    }\n",
       "\n",
       "    .dataframe thead th {\n",
       "        text-align: right;\n",
       "    }\n",
       "</style>\n",
       "<table border=\"1\" class=\"dataframe\">\n",
       "  <thead>\n",
       "    <tr style=\"text-align: right;\">\n",
       "      <th></th>\n",
       "      <th>Unnamed: 0</th>\n",
       "      <th>id</th>\n",
       "      <th>member_id</th>\n",
       "      <th>loan_amnt</th>\n",
       "      <th>funded_amnt</th>\n",
       "      <th>funded_amnt_inv</th>\n",
       "      <th>term</th>\n",
       "      <th>int_rate</th>\n",
       "      <th>installment</th>\n",
       "      <th>grade</th>\n",
       "      <th>...</th>\n",
       "      <th>dti:25-30</th>\n",
       "      <th>dti:30-35</th>\n",
       "      <th>dti:35-40</th>\n",
       "      <th>dti:&gt;40</th>\n",
       "      <th>mths_since_last_record:Missing</th>\n",
       "      <th>mths_since_last_record:0-90</th>\n",
       "      <th>mths_since_last_record:90-120</th>\n",
       "      <th>mths_since_last_record:120-127</th>\n",
       "      <th>mths_since_last_record:&gt;=127</th>\n",
       "      <th>outcome</th>\n",
       "    </tr>\n",
       "  </thead>\n",
       "  <tbody>\n",
       "    <tr>\n",
       "      <th>427211</th>\n",
       "      <td>427211</td>\n",
       "      <td>12796369</td>\n",
       "      <td>14818505</td>\n",
       "      <td>24000</td>\n",
       "      <td>24000</td>\n",
       "      <td>24000.0</td>\n",
       "      <td>36 months</td>\n",
       "      <td>8.90</td>\n",
       "      <td>762.08</td>\n",
       "      <td>A</td>\n",
       "      <td>...</td>\n",
       "      <td>0</td>\n",
       "      <td>0</td>\n",
       "      <td>0</td>\n",
       "      <td>0</td>\n",
       "      <td>1</td>\n",
       "      <td>0</td>\n",
       "      <td>0</td>\n",
       "      <td>0</td>\n",
       "      <td>0</td>\n",
       "      <td>1</td>\n",
       "    </tr>\n",
       "    <tr>\n",
       "      <th>206088</th>\n",
       "      <td>206088</td>\n",
       "      <td>1439740</td>\n",
       "      <td>1691948</td>\n",
       "      <td>10000</td>\n",
       "      <td>10000</td>\n",
       "      <td>10000.0</td>\n",
       "      <td>36 months</td>\n",
       "      <td>14.33</td>\n",
       "      <td>343.39</td>\n",
       "      <td>C</td>\n",
       "      <td>...</td>\n",
       "      <td>0</td>\n",
       "      <td>0</td>\n",
       "      <td>0</td>\n",
       "      <td>0</td>\n",
       "      <td>1</td>\n",
       "      <td>0</td>\n",
       "      <td>0</td>\n",
       "      <td>0</td>\n",
       "      <td>0</td>\n",
       "      <td>1</td>\n",
       "    </tr>\n",
       "    <tr>\n",
       "      <th>136020</th>\n",
       "      <td>136020</td>\n",
       "      <td>5214749</td>\n",
       "      <td>6556909</td>\n",
       "      <td>20425</td>\n",
       "      <td>20425</td>\n",
       "      <td>20425.0</td>\n",
       "      <td>36 months</td>\n",
       "      <td>8.90</td>\n",
       "      <td>648.56</td>\n",
       "      <td>A</td>\n",
       "      <td>...</td>\n",
       "      <td>0</td>\n",
       "      <td>0</td>\n",
       "      <td>0</td>\n",
       "      <td>0</td>\n",
       "      <td>1</td>\n",
       "      <td>0</td>\n",
       "      <td>0</td>\n",
       "      <td>0</td>\n",
       "      <td>0</td>\n",
       "      <td>1</td>\n",
       "    </tr>\n",
       "    <tr>\n",
       "      <th>412305</th>\n",
       "      <td>412305</td>\n",
       "      <td>13827698</td>\n",
       "      <td>15890016</td>\n",
       "      <td>17200</td>\n",
       "      <td>17200</td>\n",
       "      <td>17200.0</td>\n",
       "      <td>36 months</td>\n",
       "      <td>16.59</td>\n",
       "      <td>609.73</td>\n",
       "      <td>D</td>\n",
       "      <td>...</td>\n",
       "      <td>0</td>\n",
       "      <td>0</td>\n",
       "      <td>0</td>\n",
       "      <td>0</td>\n",
       "      <td>1</td>\n",
       "      <td>0</td>\n",
       "      <td>0</td>\n",
       "      <td>0</td>\n",
       "      <td>0</td>\n",
       "      <td>0</td>\n",
       "    </tr>\n",
       "    <tr>\n",
       "      <th>36159</th>\n",
       "      <td>36159</td>\n",
       "      <td>422455</td>\n",
       "      <td>496525</td>\n",
       "      <td>8400</td>\n",
       "      <td>8400</td>\n",
       "      <td>7450.0</td>\n",
       "      <td>36 months</td>\n",
       "      <td>12.84</td>\n",
       "      <td>282.40</td>\n",
       "      <td>C</td>\n",
       "      <td>...</td>\n",
       "      <td>0</td>\n",
       "      <td>0</td>\n",
       "      <td>0</td>\n",
       "      <td>0</td>\n",
       "      <td>1</td>\n",
       "      <td>0</td>\n",
       "      <td>0</td>\n",
       "      <td>0</td>\n",
       "      <td>0</td>\n",
       "      <td>0</td>\n",
       "    </tr>\n",
       "  </tbody>\n",
       "</table>\n",
       "<p>5 rows × 339 columns</p>\n",
       "</div>"
      ],
      "text/plain": [
       "        Unnamed: 0        id  member_id  loan_amnt  funded_amnt  \\\n",
       "427211      427211  12796369   14818505      24000        24000   \n",
       "206088      206088   1439740    1691948      10000        10000   \n",
       "136020      136020   5214749    6556909      20425        20425   \n",
       "412305      412305  13827698   15890016      17200        17200   \n",
       "36159        36159    422455     496525       8400         8400   \n",
       "\n",
       "        funded_amnt_inv        term  int_rate  installment grade  ...  \\\n",
       "427211          24000.0   36 months      8.90       762.08     A  ...   \n",
       "206088          10000.0   36 months     14.33       343.39     C  ...   \n",
       "136020          20425.0   36 months      8.90       648.56     A  ...   \n",
       "412305          17200.0   36 months     16.59       609.73     D  ...   \n",
       "36159            7450.0   36 months     12.84       282.40     C  ...   \n",
       "\n",
       "       dti:25-30 dti:30-35 dti:35-40 dti:>40  mths_since_last_record:Missing  \\\n",
       "427211         0         0         0       0                               1   \n",
       "206088         0         0         0       0                               1   \n",
       "136020         0         0         0       0                               1   \n",
       "412305         0         0         0       0                               1   \n",
       "36159          0         0         0       0                               1   \n",
       "\n",
       "       mths_since_last_record:0-90 mths_since_last_record:90-120  \\\n",
       "427211                           0                             0   \n",
       "206088                           0                             0   \n",
       "136020                           0                             0   \n",
       "412305                           0                             0   \n",
       "36159                            0                             0   \n",
       "\n",
       "       mths_since_last_record:120-127 mths_since_last_record:>=127 outcome  \n",
       "427211                              0                            0       1  \n",
       "206088                              0                            0       1  \n",
       "136020                              0                            0       1  \n",
       "412305                              0                            0       0  \n",
       "36159                               0                            0       0  \n",
       "\n",
       "[5 rows x 339 columns]"
      ]
     },
     "execution_count": 19,
     "metadata": {},
     "output_type": "execute_result"
    }
   ],
   "source": [
    "load_data_inputs_train.head()"
   ]
  },
  {
   "cell_type": "code",
   "execution_count": 21,
   "id": "d2834da9",
   "metadata": {
    "id": "d2834da9"
   },
   "outputs": [],
   "source": [
    "load_data_defaults= load_data_inputs_train[load_data_inputs_train['outcome']==0]                                                                               #taking only defaults"
   ]
  },
  {
   "cell_type": "code",
   "execution_count": 23,
   "id": "2b7cb80f",
   "metadata": {
    "id": "2b7cb80f",
    "outputId": "fce61fcd-aa72-488e-aef6-53ff1ac7c2db"
   },
   "outputs": [
    {
     "data": {
      "text/html": [
       "<div>\n",
       "<style scoped>\n",
       "    .dataframe tbody tr th:only-of-type {\n",
       "        vertical-align: middle;\n",
       "    }\n",
       "\n",
       "    .dataframe tbody tr th {\n",
       "        vertical-align: top;\n",
       "    }\n",
       "\n",
       "    .dataframe thead th {\n",
       "        text-align: right;\n",
       "    }\n",
       "</style>\n",
       "<table border=\"1\" class=\"dataframe\">\n",
       "  <thead>\n",
       "    <tr style=\"text-align: right;\">\n",
       "      <th></th>\n",
       "      <th>Unnamed: 0</th>\n",
       "      <th>id</th>\n",
       "      <th>member_id</th>\n",
       "      <th>loan_amnt</th>\n",
       "      <th>funded_amnt</th>\n",
       "      <th>funded_amnt_inv</th>\n",
       "      <th>term</th>\n",
       "      <th>int_rate</th>\n",
       "      <th>installment</th>\n",
       "      <th>grade</th>\n",
       "      <th>...</th>\n",
       "      <th>dti:25-30</th>\n",
       "      <th>dti:30-35</th>\n",
       "      <th>dti:35-40</th>\n",
       "      <th>dti:&gt;40</th>\n",
       "      <th>mths_since_last_record:Missing</th>\n",
       "      <th>mths_since_last_record:0-90</th>\n",
       "      <th>mths_since_last_record:90-120</th>\n",
       "      <th>mths_since_last_record:120-127</th>\n",
       "      <th>mths_since_last_record:&gt;=127</th>\n",
       "      <th>outcome</th>\n",
       "    </tr>\n",
       "  </thead>\n",
       "  <tbody>\n",
       "    <tr>\n",
       "      <th>412305</th>\n",
       "      <td>412305</td>\n",
       "      <td>13827698</td>\n",
       "      <td>15890016</td>\n",
       "      <td>17200</td>\n",
       "      <td>17200</td>\n",
       "      <td>17200.0</td>\n",
       "      <td>36 months</td>\n",
       "      <td>16.59</td>\n",
       "      <td>609.73</td>\n",
       "      <td>D</td>\n",
       "      <td>...</td>\n",
       "      <td>0</td>\n",
       "      <td>0</td>\n",
       "      <td>0</td>\n",
       "      <td>0</td>\n",
       "      <td>1</td>\n",
       "      <td>0</td>\n",
       "      <td>0</td>\n",
       "      <td>0</td>\n",
       "      <td>0</td>\n",
       "      <td>0</td>\n",
       "    </tr>\n",
       "    <tr>\n",
       "      <th>36159</th>\n",
       "      <td>36159</td>\n",
       "      <td>422455</td>\n",
       "      <td>496525</td>\n",
       "      <td>8400</td>\n",
       "      <td>8400</td>\n",
       "      <td>7450.0</td>\n",
       "      <td>36 months</td>\n",
       "      <td>12.84</td>\n",
       "      <td>282.40</td>\n",
       "      <td>C</td>\n",
       "      <td>...</td>\n",
       "      <td>0</td>\n",
       "      <td>0</td>\n",
       "      <td>0</td>\n",
       "      <td>0</td>\n",
       "      <td>1</td>\n",
       "      <td>0</td>\n",
       "      <td>0</td>\n",
       "      <td>0</td>\n",
       "      <td>0</td>\n",
       "      <td>0</td>\n",
       "    </tr>\n",
       "    <tr>\n",
       "      <th>454638</th>\n",
       "      <td>454638</td>\n",
       "      <td>10494891</td>\n",
       "      <td>12367014</td>\n",
       "      <td>20000</td>\n",
       "      <td>20000</td>\n",
       "      <td>20000.0</td>\n",
       "      <td>36 months</td>\n",
       "      <td>11.99</td>\n",
       "      <td>664.20</td>\n",
       "      <td>B</td>\n",
       "      <td>...</td>\n",
       "      <td>0</td>\n",
       "      <td>0</td>\n",
       "      <td>0</td>\n",
       "      <td>0</td>\n",
       "      <td>1</td>\n",
       "      <td>0</td>\n",
       "      <td>0</td>\n",
       "      <td>0</td>\n",
       "      <td>0</td>\n",
       "      <td>0</td>\n",
       "    </tr>\n",
       "    <tr>\n",
       "      <th>222888</th>\n",
       "      <td>222888</td>\n",
       "      <td>1197171</td>\n",
       "      <td>1438165</td>\n",
       "      <td>8500</td>\n",
       "      <td>8500</td>\n",
       "      <td>8500.0</td>\n",
       "      <td>36 months</td>\n",
       "      <td>8.90</td>\n",
       "      <td>269.91</td>\n",
       "      <td>A</td>\n",
       "      <td>...</td>\n",
       "      <td>0</td>\n",
       "      <td>0</td>\n",
       "      <td>0</td>\n",
       "      <td>0</td>\n",
       "      <td>1</td>\n",
       "      <td>0</td>\n",
       "      <td>0</td>\n",
       "      <td>0</td>\n",
       "      <td>0</td>\n",
       "      <td>0</td>\n",
       "    </tr>\n",
       "    <tr>\n",
       "      <th>377139</th>\n",
       "      <td>377139</td>\n",
       "      <td>17523141</td>\n",
       "      <td>19645687</td>\n",
       "      <td>4850</td>\n",
       "      <td>4850</td>\n",
       "      <td>4850.0</td>\n",
       "      <td>36 months</td>\n",
       "      <td>16.99</td>\n",
       "      <td>172.90</td>\n",
       "      <td>D</td>\n",
       "      <td>...</td>\n",
       "      <td>1</td>\n",
       "      <td>0</td>\n",
       "      <td>0</td>\n",
       "      <td>0</td>\n",
       "      <td>1</td>\n",
       "      <td>0</td>\n",
       "      <td>0</td>\n",
       "      <td>0</td>\n",
       "      <td>0</td>\n",
       "      <td>0</td>\n",
       "    </tr>\n",
       "  </tbody>\n",
       "</table>\n",
       "<p>5 rows × 339 columns</p>\n",
       "</div>"
      ],
      "text/plain": [
       "        Unnamed: 0        id  member_id  loan_amnt  funded_amnt  \\\n",
       "412305      412305  13827698   15890016      17200        17200   \n",
       "36159        36159    422455     496525       8400         8400   \n",
       "454638      454638  10494891   12367014      20000        20000   \n",
       "222888      222888   1197171    1438165       8500         8500   \n",
       "377139      377139  17523141   19645687       4850         4850   \n",
       "\n",
       "        funded_amnt_inv        term  int_rate  installment grade  ...  \\\n",
       "412305          17200.0   36 months     16.59       609.73     D  ...   \n",
       "36159            7450.0   36 months     12.84       282.40     C  ...   \n",
       "454638          20000.0   36 months     11.99       664.20     B  ...   \n",
       "222888           8500.0   36 months      8.90       269.91     A  ...   \n",
       "377139           4850.0   36 months     16.99       172.90     D  ...   \n",
       "\n",
       "       dti:25-30 dti:30-35 dti:35-40 dti:>40  mths_since_last_record:Missing  \\\n",
       "412305         0         0         0       0                               1   \n",
       "36159          0         0         0       0                               1   \n",
       "454638         0         0         0       0                               1   \n",
       "222888         0         0         0       0                               1   \n",
       "377139         1         0         0       0                               1   \n",
       "\n",
       "       mths_since_last_record:0-90 mths_since_last_record:90-120  \\\n",
       "412305                           0                             0   \n",
       "36159                            0                             0   \n",
       "454638                           0                             0   \n",
       "222888                           0                             0   \n",
       "377139                           0                             0   \n",
       "\n",
       "       mths_since_last_record:120-127 mths_since_last_record:>=127 outcome  \n",
       "412305                              0                            0       0  \n",
       "36159                               0                            0       0  \n",
       "454638                              0                            0       0  \n",
       "222888                              0                            0       0  \n",
       "377139                              0                            0       0  \n",
       "\n",
       "[5 rows x 339 columns]"
      ]
     },
     "execution_count": 23,
     "metadata": {},
     "output_type": "execute_result"
    }
   ],
   "source": [
    "load_data_defaults.head()"
   ]
  },
  {
   "cell_type": "code",
   "execution_count": 25,
   "id": "33f7e4e2",
   "metadata": {
    "id": "33f7e4e2",
    "outputId": "6e64aee5-8db9-44e8-edf7-be54d7dadd3d"
   },
   "outputs": [
    {
     "data": {
      "text/plain": [
       "Unnamed: 0                                                             0\n",
       "id                                                                     0\n",
       "member_id                                                              0\n",
       "loan_amnt                                                              0\n",
       "funded_amnt                                                            0\n",
       "funded_amnt_inv                                                        0\n",
       "term                                                                   0\n",
       "int_rate                                                               0\n",
       "installment                                                            0\n",
       "grade                                                                  0\n",
       "sub_grade                                                              0\n",
       "emp_title                                                           3046\n",
       "emp_length                                                          2215\n",
       "home_ownership                                                         0\n",
       "annual_inc                                                             0\n",
       "verification_status                                                    0\n",
       "issue_d                                                                0\n",
       "loan_status                                                            0\n",
       "pymnt_plan                                                             0\n",
       "url                                                                    0\n",
       "desc                                                               27179\n",
       "purpose                                                                0\n",
       "title                                                                  2\n",
       "zip_code                                                               0\n",
       "addr_state                                                             0\n",
       "dti                                                                    0\n",
       "delinq_2yrs                                                            0\n",
       "earliest_cr_line                                                       3\n",
       "inq_last_6mths                                                         0\n",
       "mths_since_last_delinq                                             22193\n",
       "mths_since_last_record                                             35408\n",
       "open_acc                                                               0\n",
       "pub_rec                                                                0\n",
       "revol_bal                                                              0\n",
       "revol_util                                                            47\n",
       "total_acc                                                              0\n",
       "initial_list_status                                                    0\n",
       "out_prncp                                                              0\n",
       "out_prncp_inv                                                          0\n",
       "total_pymnt                                                            0\n",
       "total_pymnt_inv                                                        0\n",
       "total_rec_prncp                                                        0\n",
       "total_rec_int                                                          0\n",
       "total_rec_late_fee                                                     0\n",
       "recoveries                                                             0\n",
       "collection_recovery_fee                                                0\n",
       "last_pymnt_d                                                         304\n",
       "last_pymnt_amnt                                                        0\n",
       "next_pymnt_d                                                       34006\n",
       "last_credit_pull_d                                                     6\n",
       "collections_12_mths_ex_med                                            20\n",
       "mths_since_last_major_derog                                        32688\n",
       "policy_code                                                            0\n",
       "application_type                                                       0\n",
       "annual_inc_joint                                                   40778\n",
       "dti_joint                                                          40778\n",
       "verification_status_joint                                          40778\n",
       "acc_now_delinq                                                         0\n",
       "tot_coll_amt                                                        8757\n",
       "tot_cur_bal                                                         8757\n",
       "open_acc_6m                                                        40778\n",
       "open_il_6m                                                         40778\n",
       "open_il_12m                                                        40778\n",
       "open_il_24m                                                        40778\n",
       "mths_since_rcnt_il                                                 40778\n",
       "total_bal_il                                                       40778\n",
       "il_util                                                            40778\n",
       "open_rv_12m                                                        40778\n",
       "open_rv_24m                                                        40778\n",
       "max_bal_bc                                                         40778\n",
       "all_util                                                           40778\n",
       "total_rev_hi_lim                                                       0\n",
       "inq_fi                                                             40778\n",
       "total_cu_tl                                                        40778\n",
       "inq_last_12m                                                       40778\n",
       "emp_length_int                                                         0\n",
       "term_int                                                               0\n",
       "earliest_cr_line_date                                                  3\n",
       "mths_since_earliest_cr_line                                            0\n",
       "issue_date                                                             0\n",
       "mths_since_issued_date                                                 0\n",
       "grade:A                                                                0\n",
       "grade:B                                                                0\n",
       "grade:C                                                                0\n",
       "grade:D                                                                0\n",
       "grade:E                                                                0\n",
       "grade:F                                                                0\n",
       "grade:G                                                                0\n",
       "sub_grade:A1                                                           0\n",
       "sub_grade:A2                                                           0\n",
       "sub_grade:A3                                                           0\n",
       "sub_grade:A4                                                           0\n",
       "sub_grade:A5                                                           0\n",
       "sub_grade:B1                                                           0\n",
       "sub_grade:B2                                                           0\n",
       "sub_grade:B3                                                           0\n",
       "sub_grade:B4                                                           0\n",
       "sub_grade:B5                                                           0\n",
       "sub_grade:C1                                                           0\n",
       "sub_grade:C2                                                           0\n",
       "sub_grade:C3                                                           0\n",
       "sub_grade:C4                                                           0\n",
       "sub_grade:C5                                                           0\n",
       "sub_grade:D1                                                           0\n",
       "sub_grade:D2                                                           0\n",
       "sub_grade:D3                                                           0\n",
       "sub_grade:D4                                                           0\n",
       "sub_grade:D5                                                           0\n",
       "sub_grade:E1                                                           0\n",
       "sub_grade:E2                                                           0\n",
       "sub_grade:E3                                                           0\n",
       "sub_grade:E4                                                           0\n",
       "sub_grade:E5                                                           0\n",
       "sub_grade:F1                                                           0\n",
       "sub_grade:F2                                                           0\n",
       "sub_grade:F3                                                           0\n",
       "sub_grade:F4                                                           0\n",
       "sub_grade:F5                                                           0\n",
       "sub_grade:G1                                                           0\n",
       "sub_grade:G2                                                           0\n",
       "sub_grade:G3                                                           0\n",
       "sub_grade:G4                                                           0\n",
       "sub_grade:G5                                                           0\n",
       "home_ownership:ANY                                                     0\n",
       "home_ownership:MORTGAGE                                                0\n",
       "home_ownership:NONE                                                    0\n",
       "home_ownership:OTHER                                                   0\n",
       "home_ownership:OWN                                                     0\n",
       "home_ownership:RENT                                                    0\n",
       "verification_status:Not Verified                                       0\n",
       "verification_status:Source Verified                                    0\n",
       "verification_status:Verified                                           0\n",
       "loan_status:Charged Off                                                0\n",
       "loan_status:Current                                                    0\n",
       "loan_status:Default                                                    0\n",
       "loan_status:Does not meet the credit policy. Status:Charged Off        0\n",
       "loan_status:Does not meet the credit policy. Status:Fully Paid         0\n",
       "loan_status:Fully Paid                                                 0\n",
       "loan_status:In Grace Period                                            0\n",
       "loan_status:Late (16-30 days)                                          0\n",
       "loan_status:Late (31-120 days)                                         0\n",
       "purpose:car                                                            0\n",
       "purpose:credit_card                                                    0\n",
       "purpose:debt_consolidation                                             0\n",
       "purpose:educational                                                    0\n",
       "purpose:home_improvement                                               0\n",
       "purpose:house                                                          0\n",
       "purpose:major_purchase                                                 0\n",
       "purpose:medical                                                        0\n",
       "purpose:moving                                                         0\n",
       "purpose:other                                                          0\n",
       "purpose:renewable_energy                                               0\n",
       "purpose:small_business                                                 0\n",
       "purpose:vacation                                                       0\n",
       "purpose:wedding                                                        0\n",
       "addr_state:AK                                                          0\n",
       "addr_state:AL                                                          0\n",
       "addr_state:AR                                                          0\n",
       "addr_state:AZ                                                          0\n",
       "addr_state:CA                                                          0\n",
       "addr_state:CO                                                          0\n",
       "addr_state:CT                                                          0\n",
       "addr_state:DC                                                          0\n",
       "addr_state:DE                                                          0\n",
       "addr_state:FL                                                          0\n",
       "addr_state:GA                                                          0\n",
       "addr_state:HI                                                          0\n",
       "addr_state:IA                                                          0\n",
       "addr_state:ID                                                          0\n",
       "addr_state:IL                                                          0\n",
       "addr_state:IN                                                          0\n",
       "addr_state:KS                                                          0\n",
       "addr_state:KY                                                          0\n",
       "addr_state:LA                                                          0\n",
       "addr_state:MA                                                          0\n",
       "addr_state:MD                                                          0\n",
       "addr_state:ME                                                          0\n",
       "addr_state:MI                                                          0\n",
       "addr_state:MN                                                          0\n",
       "addr_state:MO                                                          0\n",
       "addr_state:MS                                                          0\n",
       "addr_state:MT                                                          0\n",
       "addr_state:NC                                                          0\n",
       "addr_state:NE                                                          0\n",
       "addr_state:NH                                                          0\n",
       "addr_state:NJ                                                          0\n",
       "addr_state:NM                                                          0\n",
       "addr_state:NV                                                          0\n",
       "addr_state:NY                                                          0\n",
       "addr_state:OH                                                          0\n",
       "addr_state:OK                                                          0\n",
       "addr_state:OR                                                          0\n",
       "addr_state:PA                                                          0\n",
       "addr_state:RI                                                          0\n",
       "addr_state:SC                                                          0\n",
       "addr_state:SD                                                          0\n",
       "addr_state:TN                                                          0\n",
       "addr_state:TX                                                          0\n",
       "addr_state:UT                                                          0\n",
       "addr_state:VA                                                          0\n",
       "addr_state:VT                                                          0\n",
       "addr_state:WA                                                          0\n",
       "addr_state:WI                                                          0\n",
       "addr_state:WV                                                          0\n",
       "addr_state:WY                                                          0\n",
       "initial_list_status:f                                                  0\n",
       "initial_list_status:w                                                  0\n",
       "home_ownership:RENT_OTHER_NONE_ANY                                     0\n",
       "addr_state:ND                                                          0\n",
       "addr_state:ND_NE_IA_NC_FL_HI_AL                                        0\n",
       "addr_state:NM_VA                                                       0\n",
       "addr_state:OK_TN_MO_LA_MD_NC                                           0\n",
       "addr_state:UT_KY_AZ_NJ                                                 0\n",
       "addr_state:AR_MI_PA_OH_MN                                              0\n",
       "addr_state:RI_MA_DE_SD_IN                                              0\n",
       "addr_state:GA_WA_OR                                                    0\n",
       "addr_state:WI_MT                                                       0\n",
       "addr_state:IL_CT                                                       0\n",
       "addr_state:KS_SC_CO_VT_AK_MS                                           0\n",
       "addr_state:WV_NH_WY_DC_ME_ID                                           0\n",
       "purpose:educ_sm_b_wedd_ren_en_mov_house                                0\n",
       "term:36                                                                0\n",
       "term:60                                                                0\n",
       "emp_length:0                                                           0\n",
       "emp_length:1                                                           0\n",
       "emp_length:2-4                                                         0\n",
       "emp_length:5-6                                                         0\n",
       "emp_length:7-9                                                         0\n",
       "emp_length:10                                                          0\n",
       "mths_since_issued_date_factor                                          0\n",
       "mths_since_issued_date:<38                                             0\n",
       "mths_since_issued_date:38-39                                           0\n",
       "mths_since_issued_date:40-41                                           0\n",
       "mths_since_issued_date:42-48                                           0\n",
       "mths_since_issued_date:49-52                                           0\n",
       "mths_since_issued_date:53-64                                           0\n",
       "mths_since_issued_date:65-84                                           0\n",
       "mths_since_issued_date:>84                                             0\n",
       "int_rate_factor                                                        0\n",
       "int_rate:<9.548                                                        0\n",
       "int_rate:9.548-12.025                                                  0\n",
       "int_rate:12.025-15.74                                                  0\n",
       "int_rate:15.74-20.281                                                  0\n",
       "int_rate:20.281                                                        0\n",
       "funded_amnt_factor                                                     0\n",
       "mths_since_earliest_cr_line_factor                                     0\n",
       "mths_since_earliest_cr_line:<140                                       0\n",
       "mths_since_earliest_cr_line:140-239                                    0\n",
       "mths_since_earliest_cr_line:240-339                                    0\n",
       "mths_since_earliest_cr_line:340-439                                    0\n",
       "mths_since_earliest_cr_line:440-539                                    0\n",
       "mths_since_earliest_cr_line:540-600                                    0\n",
       "mths_since_earliest_cr_line:>600                                       0\n",
       "installment_factor                                                     0\n",
       "delinq_2yrs_factors                                                    0\n",
       "delinq_2yrs:0                                                          0\n",
       "delinq_2yrs:0-3                                                        0\n",
       "delinq_2yrs:3-7                                                        0\n",
       "delinq_2yrs:7-9                                                        0\n",
       "delinq_2yrs:9-11                                                       0\n",
       "delinq_2yrs:11-12                                                      0\n",
       "delinq_2yrs:12-18                                                      0\n",
       "delinq_2yrs:>18                                                        0\n",
       "inq_last_6mths:0                                                       0\n",
       "inq_last_6mths:0-3                                                     0\n",
       "inq_last_6mths:3-7                                                     0\n",
       "inq_last_6mths:7-9                                                     0\n",
       "inq_last_6mths:9-11                                                    0\n",
       "inq_last_6mths:11-12                                                   0\n",
       "inq_last_6mths:12-18                                                   0\n",
       "inq_last_6mths:18                                                      0\n",
       "open_acc:=0                                                            0\n",
       "open_acc:0-1                                                           0\n",
       "open_acc:1-4                                                           0\n",
       "open_acc:4-28                                                          0\n",
       "open_acc:28-35                                                         0\n",
       "open_acc:35-45                                                         0\n",
       "open_acc:>45                                                           0\n",
       "pub_rec:0-3                                                            0\n",
       "pub_rec:3-6                                                            0\n",
       "pub_rec:6-8                                                            0\n",
       "pub_rec:8                                                              0\n",
       "total_acc_fac                                                          0\n",
       "total_acc:<0                                                           0\n",
       "total_acc:0-4                                                          0\n",
       "total_acc:4-62                                                         0\n",
       "total_acc:62-72                                                        0\n",
       "total_acc:72-85                                                        0\n",
       "total_acc:>85                                                          0\n",
       "acc_now_delinq:<0                                                      0\n",
       "acc_now_delinq:0-1                                                     0\n",
       "acc_now_delinq:1-2                                                     0\n",
       "acc_now_delinq:2-3                                                     0\n",
       "acc_now_delinq:3-5                                                     0\n",
       "acc_now_delinq:>5                                                      0\n",
       "total_rev_hi_lim_factor                                              828\n",
       "total_rev_hi_lim:<=5k                                                  0\n",
       "total_rev_hi_lim:5k_10k                                                0\n",
       "total_rev_hi_lim:10k_20k                                               0\n",
       "total_rev_hi_lim:20k_30k                                               0\n",
       "total_rev_hi_lim:30k_40k                                               0\n",
       "total_rev_hi_lim:40k_50k                                               0\n",
       "total_rev_hi_lim:50k_65k                                               0\n",
       "total_rev_hi_lim:65k_80k                                               0\n",
       "total_rev_hi_lim:>80k                                                  0\n",
       "annual_inc_factor                                                      0\n",
       "annual_inc:<20k                                                        0\n",
       "annual_inc:20k-30k                                                     0\n",
       "annual_inc:30k-40k                                                     0\n",
       "annual_inc:40k-50k                                                     0\n",
       "annual_inc:50k-60k                                                     0\n",
       "annual_inc:60k-70k                                                     0\n",
       "annual_inc:70k-80k                                                     0\n",
       "annual_inc:80k-90k                                                     0\n",
       "annual_inc:90k-100k                                                    0\n",
       "annual_inc:100k-120k                                                   0\n",
       "annual_inc:120k-140k                                                   0\n",
       "annual_inc:>140k                                                       0\n",
       "mths_since_last_delinq:Missing                                         0\n",
       "mths_since_last_delinq:0-3                                             0\n",
       "mths_since_last_delinq:4-30                                            0\n",
       "mths_since_last_delinq:31-56                                           0\n",
       "mths_since_last_delinq:>=57                                            0\n",
       "dti_factor                                                             0\n",
       "dti:<5                                                                 0\n",
       "dti:5-10                                                               0\n",
       "dti:10-15                                                              0\n",
       "dti:15-20                                                              0\n",
       "dti:20-25                                                              0\n",
       "dti:25-30                                                              0\n",
       "dti:30-35                                                              0\n",
       "dti:35-40                                                              0\n",
       "dti:>40                                                                0\n",
       "mths_since_last_record:Missing                                         0\n",
       "mths_since_last_record:0-90                                            0\n",
       "mths_since_last_record:90-120                                          0\n",
       "mths_since_last_record:120-127                                         0\n",
       "mths_since_last_record:>=127                                           0\n",
       "outcome                                                                0\n",
       "dtype: int64"
      ]
     },
     "execution_count": 25,
     "metadata": {},
     "output_type": "execute_result"
    }
   ],
   "source": [
    "load_data_defaults.isna().sum()"
   ]
  },
  {
   "cell_type": "code",
   "execution_count": 27,
   "id": "c100fe4c",
   "metadata": {
    "id": "c100fe4c"
   },
   "outputs": [],
   "source": [
    "feature_selection=[\n",
    "'grade:A',\n",
    "'grade:B',\n",
    "'grade:C',\n",
    "'grade:D',\n",
    "'grade:E',\n",
    "'grade:F',\n",
    "'grade:G',\n",
    "'home_ownership:RENT_OTHER_NONE_ANY',\n",
    "'home_ownership:OWN',\n",
    "'home_ownership:MORTGAGE',\n",
    "'addr_state:ND_NE_IA_NC_FL_HI_AL',\n",
    "'addr_state:NM_VA',\n",
    "'addr_state:OK_TN_MO_LA_MD_NC',\n",
    "'addr_state:UT_KY_AZ_NJ',\n",
    "'addr_state:AR_MI_PA_OH_MN',\n",
    "'addr_state:RI_MA_DE_SD_IN',\n",
    "'addr_state:GA_WA_OR',\n",
    "'addr_state:WI_MT',\n",
    "'addr_state:IL_CT',\n",
    "'addr_state:KS_SC_CO_VT_AK_MS',\n",
    "'addr_state:WV_NH_WY_DC_ME_ID',\n",
    "'verification_status:Verified',\n",
    "'verification_status:Source Verified',\n",
    "'verification_status:Not Verified',\n",
    "    'purpose:educ_sm_b_wedd_ren_en_mov_house',\n",
    "    'purpose:small_business',\n",
    "    'purpose:educational',\n",
    "    'purpose:renewable_energy',\n",
    "    'purpose:moving',\n",
    "    'purpose:house',\n",
    "    'purpose:other',\n",
    "    'purpose:medical',\n",
    "    'purpose:wedding',\n",
    "    'purpose:vacation',\n",
    "    'purpose:debt_consolidation',\n",
    "    'purpose:home_improvement',\n",
    "    'purpose:major_purchase',\n",
    "    'purpose:car',\n",
    "    'purpose:credit_card',\n",
    "    'initial_list_status:f',\n",
    "    'initial_list_status:w',\n",
    "'term:36',\n",
    "'term:60',\n",
    "'emp_length:0',\n",
    "'emp_length:1',\n",
    "'emp_length:2-4',\n",
    "'emp_length:5-6',\n",
    "'emp_length:7-9',\n",
    "'emp_length:10',\n",
    "'mths_since_issued_date:<38',\n",
    "'mths_since_issued_date:38-39',\n",
    "'mths_since_issued_date:40-41',\n",
    "'mths_since_issued_date:42-48',\n",
    "'mths_since_issued_date:49-52',\n",
    "'mths_since_issued_date:53-64',\n",
    "'mths_since_issued_date:65-84',\n",
    "'mths_since_issued_date:>84',\n",
    "'int_rate:<9.548',\n",
    "'int_rate:9.548-12.025',\n",
    "'int_rate:12.025-15.74',\n",
    "'int_rate:15.74-20.281',\n",
    "'int_rate:20.281',\n",
    "    'mths_since_earliest_cr_line:<140',\n",
    "    'mths_since_earliest_cr_line:140-239',\n",
    "    'mths_since_earliest_cr_line:240-339',\n",
    "    'mths_since_earliest_cr_line:340-439',\n",
    "    'mths_since_earliest_cr_line:440-539',\n",
    "    'mths_since_earliest_cr_line:540-600',\n",
    "    'mths_since_earliest_cr_line:>600',\n",
    "    'delinq_2yrs:0',\n",
    "    'delinq_2yrs:0-3',\n",
    "    'delinq_2yrs:3-7',\n",
    "    'delinq_2yrs:7-9',\n",
    "    'delinq_2yrs:9-11',\n",
    "    'delinq_2yrs:11-12',\n",
    "    'delinq_2yrs:12-18',\n",
    "    'delinq_2yrs:>18',\n",
    "    'inq_last_6mths:0',\n",
    "    'inq_last_6mths:0-3',\n",
    "    'inq_last_6mths:3-7',\n",
    "    'inq_last_6mths:7-9',\n",
    "    'inq_last_6mths:9-11',\n",
    "    'inq_last_6mths:11-12',\n",
    "    'inq_last_6mths:12-18',\n",
    "    'inq_last_6mths:18',\n",
    "    'open_acc:=0',\n",
    "    'open_acc:0-1',\n",
    "    'open_acc:1-4',\n",
    "    'open_acc:4-28',\n",
    "    'open_acc:28-35',\n",
    "    'open_acc:35-45',\n",
    "    'open_acc:>45',\n",
    "    'pub_rec:0-3',\n",
    "    'pub_rec:3-6',\n",
    "    'pub_rec:6-8',\n",
    "    'pub_rec:8',\n",
    "    'total_acc:<0',\n",
    "    'total_acc:0-4',\n",
    "    'total_acc:4-62',\n",
    "    'total_acc:62-72',\n",
    "    'total_acc:72-85',\n",
    "    'total_acc:>85',\n",
    "    'acc_now_delinq:<0',\n",
    "    'acc_now_delinq:0-1',\n",
    "    'acc_now_delinq:1-2',\n",
    "    'acc_now_delinq:2-3',\n",
    "    'acc_now_delinq:3-5',\n",
    "    'acc_now_delinq:>5',\n",
    "'annual_inc:<20k',\n",
    "'annual_inc:20k-30k',\n",
    "'annual_inc:30k-40k',\n",
    "'annual_inc:40k-50k',\n",
    "'annual_inc:50k-60k',\n",
    "'annual_inc:60k-70k',\n",
    "'annual_inc:70k-80k',\n",
    "'annual_inc:80k-90k',\n",
    "'annual_inc:90k-100k',\n",
    "'annual_inc:100k-120k',\n",
    "'annual_inc:120k-140k',\n",
    "'annual_inc:>140k',\n",
    "'total_rev_hi_lim:<=5k',\n",
    "'total_rev_hi_lim:5k_10k',\n",
    "'total_rev_hi_lim:10k_20k',\n",
    "'total_rev_hi_lim:20k_30k',\n",
    "'total_rev_hi_lim:30k_40k',\n",
    "'total_rev_hi_lim:40k_50k',\n",
    "'total_rev_hi_lim:50k_65k',\n",
    "'total_rev_hi_lim:65k_80k',\n",
    "'total_rev_hi_lim:>80k',\n",
    "'dti:<5',\n",
    "'dti:5-10',\n",
    "'dti:10-15',\n",
    "'dti:15-20',\n",
    "'dti:20-25',\n",
    "'dti:25-30',\n",
    "'dti:30-35',\n",
    "'dti:35-40',\n",
    "'dti:>40',\n",
    "'mths_since_last_delinq:Missing',\n",
    "'mths_since_last_delinq:0-3',\n",
    "'mths_since_last_delinq:4-30',\n",
    "'mths_since_last_delinq:31-56',\n",
    "'mths_since_last_delinq:>=57',\n",
    "'mths_since_last_record:Missing',\n",
    "'mths_since_last_record:0-90',\n",
    "'mths_since_last_record:90-120',\n",
    "'mths_since_last_record:120-127',\n",
    "'mths_since_last_record:>=127','loan_amnt','funded_amnt','int_rate','installment','recoveries','total_rec_prncp']\n",
    "\n"
   ]
  },
  {
   "cell_type": "code",
   "execution_count": 29,
   "id": "bcb482ca",
   "metadata": {
    "id": "bcb482ca"
   },
   "outputs": [],
   "source": [
    "load_data_defaults=load_data_defaults.reindex(feature_selection, axis='columns')"
   ]
  },
  {
   "cell_type": "code",
   "execution_count": 31,
   "id": "230dd554",
   "metadata": {
    "id": "230dd554",
    "outputId": "eafa967c-5009-4b1a-9563-51a3d6889e2d"
   },
   "outputs": [
    {
     "data": {
      "text/plain": [
       "grade:A                                    0\n",
       "grade:B                                    0\n",
       "grade:C                                    0\n",
       "grade:D                                    0\n",
       "grade:E                                    0\n",
       "grade:F                                    0\n",
       "grade:G                                    0\n",
       "home_ownership:RENT_OTHER_NONE_ANY         0\n",
       "home_ownership:OWN                         0\n",
       "home_ownership:MORTGAGE                    0\n",
       "addr_state:ND_NE_IA_NC_FL_HI_AL            0\n",
       "addr_state:NM_VA                           0\n",
       "addr_state:OK_TN_MO_LA_MD_NC               0\n",
       "addr_state:UT_KY_AZ_NJ                     0\n",
       "addr_state:AR_MI_PA_OH_MN                  0\n",
       "addr_state:RI_MA_DE_SD_IN                  0\n",
       "addr_state:GA_WA_OR                        0\n",
       "addr_state:WI_MT                           0\n",
       "addr_state:IL_CT                           0\n",
       "addr_state:KS_SC_CO_VT_AK_MS               0\n",
       "addr_state:WV_NH_WY_DC_ME_ID               0\n",
       "verification_status:Verified               0\n",
       "verification_status:Source Verified        0\n",
       "verification_status:Not Verified           0\n",
       "purpose:educ_sm_b_wedd_ren_en_mov_house    0\n",
       "purpose:small_business                     0\n",
       "purpose:educational                        0\n",
       "purpose:renewable_energy                   0\n",
       "purpose:moving                             0\n",
       "purpose:house                              0\n",
       "purpose:other                              0\n",
       "purpose:medical                            0\n",
       "purpose:wedding                            0\n",
       "purpose:vacation                           0\n",
       "purpose:debt_consolidation                 0\n",
       "purpose:home_improvement                   0\n",
       "purpose:major_purchase                     0\n",
       "purpose:car                                0\n",
       "purpose:credit_card                        0\n",
       "initial_list_status:f                      0\n",
       "initial_list_status:w                      0\n",
       "term:36                                    0\n",
       "term:60                                    0\n",
       "emp_length:0                               0\n",
       "emp_length:1                               0\n",
       "emp_length:2-4                             0\n",
       "emp_length:5-6                             0\n",
       "emp_length:7-9                             0\n",
       "emp_length:10                              0\n",
       "mths_since_issued_date:<38                 0\n",
       "mths_since_issued_date:38-39               0\n",
       "mths_since_issued_date:40-41               0\n",
       "mths_since_issued_date:42-48               0\n",
       "mths_since_issued_date:49-52               0\n",
       "mths_since_issued_date:53-64               0\n",
       "mths_since_issued_date:65-84               0\n",
       "mths_since_issued_date:>84                 0\n",
       "int_rate:<9.548                            0\n",
       "int_rate:9.548-12.025                      0\n",
       "int_rate:12.025-15.74                      0\n",
       "int_rate:15.74-20.281                      0\n",
       "int_rate:20.281                            0\n",
       "mths_since_earliest_cr_line:<140           0\n",
       "mths_since_earliest_cr_line:140-239        0\n",
       "mths_since_earliest_cr_line:240-339        0\n",
       "mths_since_earliest_cr_line:340-439        0\n",
       "mths_since_earliest_cr_line:440-539        0\n",
       "mths_since_earliest_cr_line:540-600        0\n",
       "mths_since_earliest_cr_line:>600           0\n",
       "delinq_2yrs:0                              0\n",
       "delinq_2yrs:0-3                            0\n",
       "delinq_2yrs:3-7                            0\n",
       "delinq_2yrs:7-9                            0\n",
       "delinq_2yrs:9-11                           0\n",
       "delinq_2yrs:11-12                          0\n",
       "delinq_2yrs:12-18                          0\n",
       "delinq_2yrs:>18                            0\n",
       "inq_last_6mths:0                           0\n",
       "inq_last_6mths:0-3                         0\n",
       "inq_last_6mths:3-7                         0\n",
       "inq_last_6mths:7-9                         0\n",
       "inq_last_6mths:9-11                        0\n",
       "inq_last_6mths:11-12                       0\n",
       "inq_last_6mths:12-18                       0\n",
       "inq_last_6mths:18                          0\n",
       "open_acc:=0                                0\n",
       "open_acc:0-1                               0\n",
       "open_acc:1-4                               0\n",
       "open_acc:4-28                              0\n",
       "open_acc:28-35                             0\n",
       "open_acc:35-45                             0\n",
       "open_acc:>45                               0\n",
       "pub_rec:0-3                                0\n",
       "pub_rec:3-6                                0\n",
       "pub_rec:6-8                                0\n",
       "pub_rec:8                                  0\n",
       "total_acc:<0                               0\n",
       "total_acc:0-4                              0\n",
       "total_acc:4-62                             0\n",
       "total_acc:62-72                            0\n",
       "total_acc:72-85                            0\n",
       "total_acc:>85                              0\n",
       "acc_now_delinq:<0                          0\n",
       "acc_now_delinq:0-1                         0\n",
       "acc_now_delinq:1-2                         0\n",
       "acc_now_delinq:2-3                         0\n",
       "acc_now_delinq:3-5                         0\n",
       "acc_now_delinq:>5                          0\n",
       "annual_inc:<20k                            0\n",
       "annual_inc:20k-30k                         0\n",
       "annual_inc:30k-40k                         0\n",
       "annual_inc:40k-50k                         0\n",
       "annual_inc:50k-60k                         0\n",
       "annual_inc:60k-70k                         0\n",
       "annual_inc:70k-80k                         0\n",
       "annual_inc:80k-90k                         0\n",
       "annual_inc:90k-100k                        0\n",
       "annual_inc:100k-120k                       0\n",
       "annual_inc:120k-140k                       0\n",
       "annual_inc:>140k                           0\n",
       "total_rev_hi_lim:<=5k                      0\n",
       "total_rev_hi_lim:5k_10k                    0\n",
       "total_rev_hi_lim:10k_20k                   0\n",
       "total_rev_hi_lim:20k_30k                   0\n",
       "total_rev_hi_lim:30k_40k                   0\n",
       "total_rev_hi_lim:40k_50k                   0\n",
       "total_rev_hi_lim:50k_65k                   0\n",
       "total_rev_hi_lim:65k_80k                   0\n",
       "total_rev_hi_lim:>80k                      0\n",
       "dti:<5                                     0\n",
       "dti:5-10                                   0\n",
       "dti:10-15                                  0\n",
       "dti:15-20                                  0\n",
       "dti:20-25                                  0\n",
       "dti:25-30                                  0\n",
       "dti:30-35                                  0\n",
       "dti:35-40                                  0\n",
       "dti:>40                                    0\n",
       "mths_since_last_delinq:Missing             0\n",
       "mths_since_last_delinq:0-3                 0\n",
       "mths_since_last_delinq:4-30                0\n",
       "mths_since_last_delinq:31-56               0\n",
       "mths_since_last_delinq:>=57                0\n",
       "mths_since_last_record:Missing             0\n",
       "mths_since_last_record:0-90                0\n",
       "mths_since_last_record:90-120              0\n",
       "mths_since_last_record:120-127             0\n",
       "mths_since_last_record:>=127               0\n",
       "loan_amnt                                  0\n",
       "funded_amnt                                0\n",
       "int_rate                                   0\n",
       "installment                                0\n",
       "recoveries                                 0\n",
       "total_rec_prncp                            0\n",
       "dtype: int64"
      ]
     },
     "execution_count": 31,
     "metadata": {},
     "output_type": "execute_result"
    }
   ],
   "source": [
    "load_data_defaults.isna().sum()"
   ]
  },
  {
   "cell_type": "markdown",
   "id": "PdaBg0ScL6Uy",
   "metadata": {
    "id": "PdaBg0ScL6Uy"
   },
   "source": [
    "### Recovery Rate:\n",
    "It is the recovered amount divided by the funded amount"
   ]
  },
  {
   "cell_type": "code",
   "execution_count": 33,
   "id": "d69ee3c5",
   "metadata": {
    "id": "d69ee3c5"
   },
   "outputs": [],
   "source": [
    "load_data_defaults['recovery_rate'] = load_data_defaults['recoveries']/load_data_defaults['funded_amnt']"
   ]
  },
  {
   "cell_type": "code",
   "execution_count": 35,
   "id": "421c6e48",
   "metadata": {
    "id": "421c6e48",
    "outputId": "ac62ca1a-9432-4bdd-844d-073cd72be7f6"
   },
   "outputs": [
    {
     "data": {
      "text/plain": [
       "count    40778.000000\n",
       "mean         0.051739\n",
       "std          0.085882\n",
       "min          0.000000\n",
       "25%          0.000000\n",
       "50%          0.000000\n",
       "75%          0.101866\n",
       "max          1.207630\n",
       "Name: recovery_rate, dtype: float64"
      ]
     },
     "execution_count": 35,
     "metadata": {},
     "output_type": "execute_result"
    }
   ],
   "source": [
    "load_data_defaults['recovery_rate'].describe()"
   ]
  },
  {
   "cell_type": "code",
   "execution_count": 37,
   "id": "9ac9ad78",
   "metadata": {
    "id": "9ac9ad78"
   },
   "outputs": [],
   "source": [
    "load_data_defaults['recovery_rate'] = np.where(load_data_defaults['recovery_rate'] > 1,1,load_data_defaults['recovery_rate'])\n",
    "load_data_defaults['recovery_rate'] = np.where(load_data_defaults['recovery_rate'] < 0,0,load_data_defaults['recovery_rate'])"
   ]
  },
  {
   "cell_type": "code",
   "execution_count": 39,
   "id": "0f236f9a",
   "metadata": {
    "id": "0f236f9a",
    "outputId": "13c8bef7-7497-466d-8026-d27eb88af4d8"
   },
   "outputs": [
    {
     "data": {
      "text/plain": [
       "count    40778.000000\n",
       "mean         0.051702\n",
       "std          0.085447\n",
       "min          0.000000\n",
       "25%          0.000000\n",
       "50%          0.000000\n",
       "75%          0.101866\n",
       "max          1.000000\n",
       "Name: recovery_rate, dtype: float64"
      ]
     },
     "execution_count": 39,
     "metadata": {},
     "output_type": "execute_result"
    }
   ],
   "source": [
    "load_data_defaults['recovery_rate'].describe()"
   ]
  },
  {
   "cell_type": "markdown",
   "id": "KFMVMhGGM1a-",
   "metadata": {
    "id": "KFMVMhGGM1a-"
   },
   "source": [
    "### The credit conversion factor (CCF) converts the amount of a free credit line and other off-balance-sheet transactions (with the exception of derivatives) to an EAD (exposure at default) amount."
   ]
  },
  {
   "cell_type": "code",
   "execution_count": 41,
   "id": "4fec09b1",
   "metadata": {
    "id": "4fec09b1"
   },
   "outputs": [],
   "source": [
    "load_data_defaults['CCF'] = (load_data_defaults['funded_amnt'] - load_data_defaults['total_rec_prncp']) / load_data_defaults['funded_amnt']"
   ]
  },
  {
   "cell_type": "code",
   "execution_count": 43,
   "id": "2ed64373",
   "metadata": {
    "id": "2ed64373",
    "outputId": "0acd0106-eb42-428c-e305-6f91d1d9b6d9"
   },
   "outputs": [
    {
     "data": {
      "text/plain": [
       "count    40778.000000\n",
       "mean         0.719456\n",
       "std          0.204450\n",
       "min          0.000000\n",
       "25%          0.608267\n",
       "50%          0.769332\n",
       "75%          0.876847\n",
       "max          1.000000\n",
       "Name: CCF, dtype: float64"
      ]
     },
     "execution_count": 43,
     "metadata": {},
     "output_type": "execute_result"
    }
   ],
   "source": [
    "load_data_defaults['CCF'].describe()"
   ]
  },
  {
   "cell_type": "code",
   "execution_count": 45,
   "id": "b3a9808f",
   "metadata": {
    "id": "b3a9808f"
   },
   "outputs": [],
   "source": [
    "import matplotlib.pyplot as plt\n",
    "import seaborn as sns\n",
    "sns.set()"
   ]
  },
  {
   "cell_type": "code",
   "execution_count": 47,
   "id": "75bc11f1",
   "metadata": {
    "id": "75bc11f1",
    "outputId": "d3af6bcb-f144-4c08-bab5-d9054277427e"
   },
   "outputs": [
    {
     "data": {
      "image/png": "[encoded data removed]",
      "text/plain": [
       "<Figure size 640x480 with 1 Axes>"
      ]
     },
     "metadata": {},
     "output_type": "display_data"
    }
   ],
   "source": [
    "plt.hist(load_data_defaults['recovery_rate'],bins=50)\n",
    "plt.show()"
   ]
  },
  {
   "cell_type": "code",
   "execution_count": 49,
   "id": "7734f21c",
   "metadata": {
    "id": "7734f21c",
    "outputId": "a12bf228-3349-499d-bb9d-9cf6b5b52b73"
   },
   "outputs": [
    {
     "data": {
      "image/png": "[encoded data removed]",
      "text/plain": [
       "<Figure size 640x480 with 1 Axes>"
      ]
     },
     "metadata": {},
     "output_type": "display_data"
    }
   ],
   "source": [
    "plt.hist(load_data_defaults['CCF'],bins=50)\n",
    "plt.show()"
   ]
  },
  {
   "cell_type": "code",
   "execution_count": 51,
   "id": "5130300e",
   "metadata": {
    "id": "5130300e"
   },
   "outputs": [],
   "source": [
    "load_data_defaults['recovery_rate_0_1']  = np.where(load_data_defaults['recovery_rate'] == 0,0,1)"
   ]
  },
  {
   "cell_type": "code",
   "execution_count": 53,
   "id": "99220aa4",
   "metadata": {
    "id": "99220aa4",
    "outputId": "e324aed1-fcc2-4cf0-ac74-6522efdf539a"
   },
   "outputs": [
    {
     "data": {
      "text/plain": [
       "recovery_rate_0_1\n",
       "0    21276\n",
       "1    19502\n",
       "Name: count, dtype: int64"
      ]
     },
     "execution_count": 53,
     "metadata": {},
     "output_type": "execute_result"
    }
   ],
   "source": [
    "load_data_defaults['recovery_rate_0_1'].value_counts()"
   ]
  },
  {
   "cell_type": "markdown",
   "id": "0036c75f",
   "metadata": {
    "id": "0036c75f"
   },
   "source": [
    "# LGD_Model"
   ]
  },
  {
   "cell_type": "markdown",
   "id": "sZ1H6zADN_t7",
   "metadata": {
    "id": "sZ1H6zADN_t7"
   },
   "source": [
    "In LGD model we will basically create 2 models for determining the recovery rate if the recovery rate is 0 or greater than 0:\n",
    "\n",
    "1.we will create a logistic regression model for determining whether the recovery rate is 0 or 1.\n",
    "\n",
    "2.For all the recovery rate greater than 0 we will create a linear regression model to determine how much greater than 0 the value of recovery rate is."
   ]
  },
  {
   "cell_type": "markdown",
   "id": "Z4Fbg_saRdNx",
   "metadata": {
    "id": "Z4Fbg_saRdNx"
   },
   "source": [
    "#### Doing The First part: Stage_1"
   ]
  },
  {
   "cell_type": "code",
   "execution_count": 55,
   "id": "89d0127a",
   "metadata": {
    "id": "89d0127a",
    "outputId": "3e2f66c6-5386-4182-f039-ab60b9dff2de"
   },
   "outputs": [
    {
     "data": {
      "text/plain": [
       "Index(['grade:A', 'grade:B', 'grade:C', 'grade:D', 'grade:E', 'grade:F',\n",
       "       'grade:G', 'home_ownership:RENT_OTHER_NONE_ANY', 'home_ownership:OWN',\n",
       "       'home_ownership:MORTGAGE',\n",
       "       ...\n",
       "       'mths_since_last_record:>=127', 'loan_amnt', 'funded_amnt', 'int_rate',\n",
       "       'installment', 'recoveries', 'total_rec_prncp', 'recovery_rate', 'CCF',\n",
       "       'recovery_rate_0_1'],\n",
       "      dtype='object', length=157)"
      ]
     },
     "execution_count": 55,
     "metadata": {},
     "output_type": "execute_result"
    }
   ],
   "source": [
    "load_data_defaults.columns"
   ]
  },
  {
   "cell_type": "code",
   "execution_count": 57,
   "id": "f8786dad",
   "metadata": {
    "id": "f8786dad"
   },
   "outputs": [],
   "source": [
    "from sklearn.model_selection import train_test_split\n",
    "\n",
    "lgd_input_train,lgd_input_test,lgd_target_train,lgd_target_test = train_test_split(load_data_defaults.drop(['recoveries','recovery_rate','recovery_rate_0_1','CCF'],axis=1),load_data_defaults['recovery_rate_0_1'],test_size=0.2,random_state=42)"
   ]
  },
  {
   "cell_type": "code",
   "execution_count": 59,
   "id": "07bf4ca4",
   "metadata": {
    "id": "07bf4ca4"
   },
   "outputs": [],
   "source": [
    "ref_categories=['grade:G',\n",
    "               'home_ownership:RENT_OTHER_NONE_ANY',\n",
    "               'addr_state:ND_NE_IA_NC_FL_HI_AL',\n",
    "               'verification_status:Verified',\n",
    "                'purpose:educ_sm_b_wedd_ren_en_mov_house',\n",
    "                'initial_list_status:f',\n",
    "                'term:60',\n",
    "                'emp_length:0',\n",
    "                'mths_since_issued_date:>84',\n",
    "                'int_rate:20.281',\n",
    "                'mths_since_earliest_cr_line:<140',\n",
    "                'delinq_2yrs:>18',\n",
    "                'inq_last_6mths:7-9',\n",
    "                'open_acc:=0',\n",
    "                'pub_rec:0-3',\n",
    "                'total_acc:>85',\n",
    "                'acc_now_delinq:<0',\n",
    "                'total_rev_hi_lim:<=5k',\n",
    "                'annual_inc:<20k',\n",
    "                'dti:>40',\n",
    "                'mths_since_last_delinq:0-3',\n",
    "                'mths_since_last_record:Missing'\n",
    "               ]"
   ]
  },
  {
   "cell_type": "code",
   "execution_count": 61,
   "id": "bc31ae31",
   "metadata": {
    "id": "bc31ae31"
   },
   "outputs": [],
   "source": [
    "lgd_input_train = lgd_input_train.drop(ref_categories,axis=1)"
   ]
  },
  {
   "cell_type": "code",
   "execution_count": 63,
   "id": "625508d5",
   "metadata": {
    "id": "625508d5"
   },
   "outputs": [],
   "source": [
    "from sklearn.linear_model import LogisticRegression\n",
    "from sklearn import metrics\n"
   ]
  },
  {
   "cell_type": "code",
   "execution_count": 65,
   "id": "31821abb",
   "metadata": {
    "id": "31821abb"
   },
   "outputs": [],
   "source": [
    "reg =LogisticRegression(max_iter=200)                                               "
   ]
  },
  {
   "cell_type": "code",
   "execution_count": 67,
   "id": "6d251d95",
   "metadata": {
    "id": "6d251d95",
    "outputId": "b84516ba-a24f-4256-a230-6542737cd903"
   },
   "outputs": [
    {
     "data": {
      "text/plain": [
       "(32622, 131)"
      ]
     },
     "execution_count": 67,
     "metadata": {},
     "output_type": "execute_result"
    }
   ],
   "source": [
    "lgd_input_train.shape"
   ]
  },
  {
   "cell_type": "code",
   "execution_count": 69,
   "id": "be265679",
   "metadata": {
    "id": "be265679",
    "outputId": "eedd9b6e-b5b1-4994-d426-322ea4daf58c"
   },
   "outputs": [
    {
     "data": {
      "text/plain": [
       "(32622,)"
      ]
     },
     "execution_count": 69,
     "metadata": {},
     "output_type": "execute_result"
    }
   ],
   "source": [
    "lgd_target_train.shape"
   ]
  },
  {
   "cell_type": "code",
   "execution_count": 71,
   "id": "bf47d93e",
   "metadata": {
    "id": "bf47d93e",
    "outputId": "215ab839-c002-4589-fd90-fdbff7043581"
   },
   "outputs": [
    {
     "data": {
      "text/html": [
       "<style>#sk-container-id-1 {\n",
       "  /* Definition of color scheme common for light and dark mode */\n",
       "  --sklearn-color-text: black;\n",
       "  --sklearn-color-line: gray;\n",
       "  /* Definition of color scheme for unfitted estimators */\n",
       "  --sklearn-color-unfitted-level-0: #fff5e6;\n",
       "  --sklearn-color-unfitted-level-1: #f6e4d2;\n",
       "  --sklearn-color-unfitted-level-2: #ffe0b3;\n",
       "  --sklearn-color-unfitted-level-3: chocolate;\n",
       "  /* Definition of color scheme for fitted estimators */\n",
       "  --sklearn-color-fitted-level-0: #f0f8ff;\n",
       "  --sklearn-color-fitted-level-1: #d4ebff;\n",
       "  --sklearn-color-fitted-level-2: #b3dbfd;\n",
       "  --sklearn-color-fitted-level-3: cornflowerblue;\n",
       "\n",
       "  /* Specific color for light theme */\n",
       "  --sklearn-color-text-on-default-background: var(--sg-text-color, var(--theme-code-foreground, var(--jp-content-font-color1, black)));\n",
       "  --sklearn-color-background: var(--sg-background-color, var(--theme-background, var(--jp-layout-color0, white)));\n",
       "  --sklearn-color-border-box: var(--sg-text-color, var(--theme-code-foreground, var(--jp-content-font-color1, black)));\n",
       "  --sklearn-color-icon: #696969;\n",
       "\n",
       "  @media (prefers-color-scheme: dark) {\n",
       "    /* Redefinition of color scheme for dark theme */\n",
       "    --sklearn-color-text-on-default-background: var(--sg-text-color, var(--theme-code-foreground, var(--jp-content-font-color1, white)));\n",
       "    --sklearn-color-background: var(--sg-background-color, var(--theme-background, var(--jp-layout-color0, #111)));\n",
       "    --sklearn-color-border-box: var(--sg-text-color, var(--theme-code-foreground, var(--jp-content-font-color1, white)));\n",
       "    --sklearn-color-icon: #878787;\n",
       "  }\n",
       "}\n",
       "\n",
       "#sk-container-id-1 {\n",
       "  color: var(--sklearn-color-text);\n",
       "}\n",
       "\n",
       "#sk-container-id-1 pre {\n",
       "  padding: 0;\n",
       "}\n",
       "\n",
       "#sk-container-id-1 input.sk-hidden--visually {\n",
       "  border: 0;\n",
       "  clip: rect(1px 1px 1px 1px);\n",
       "  clip: rect(1px, 1px, 1px, 1px);\n",
       "  height: 1px;\n",
       "  margin: -1px;\n",
       "  overflow: hidden;\n",
       "  padding: 0;\n",
       "  position: absolute;\n",
       "  width: 1px;\n",
       "}\n",
       "\n",
       "#sk-container-id-1 div.sk-dashed-wrapped {\n",
       "  border: 1px dashed var(--sklearn-color-line);\n",
       "  margin: 0 0.4em 0.5em 0.4em;\n",
       "  box-sizing: border-box;\n",
       "  padding-bottom: 0.4em;\n",
       "  background-color: var(--sklearn-color-background);\n",
       "}\n",
       "\n",
       "#sk-container-id-1 div.sk-container {\n",
       "  /* jupyter's `normalize.less` sets `[hidden] { display: none; }`\n",
       "     but bootstrap.min.css set `[hidden] { display: none !important; }`\n",
       "     so we also need the `!important` here to be able to override the\n",
       "     default hidden behavior on the sphinx rendered scikit-learn.org.\n",
       "     See: https://github.com/scikit-learn/scikit-learn/issues/21755 */\n",
       "  display: inline-block !important;\n",
       "  position: relative;\n",
       "}\n",
       "\n",
       "#sk-container-id-1 div.sk-text-repr-fallback {\n",
       "  display: none;\n",
       "}\n",
       "\n",
       "div.sk-parallel-item,\n",
       "div.sk-serial,\n",
       "div.sk-item {\n",
       "  /* draw centered vertical line to link estimators */\n",
       "  background-image: linear-gradient(var(--sklearn-color-text-on-default-background), var(--sklearn-color-text-on-default-background));\n",
       "  background-size: 2px 100%;\n",
       "  background-repeat: no-repeat;\n",
       "  background-position: center center;\n",
       "}\n",
       "\n",
       "/* Parallel-specific style estimator block */\n",
       "\n",
       "#sk-container-id-1 div.sk-parallel-item::after {\n",
       "  content: \"\";\n",
       "  width: 100%;\n",
       "  border-bottom: 2px solid var(--sklearn-color-text-on-default-background);\n",
       "  flex-grow: 1;\n",
       "}\n",
       "\n",
       "#sk-container-id-1 div.sk-parallel {\n",
       "  display: flex;\n",
       "  align-items: stretch;\n",
       "  justify-content: center;\n",
       "  background-color: var(--sklearn-color-background);\n",
       "  position: relative;\n",
       "}\n",
       "\n",
       "#sk-container-id-1 div.sk-parallel-item {\n",
       "  display: flex;\n",
       "  flex-direction: column;\n",
       "}\n",
       "\n",
       "#sk-container-id-1 div.sk-parallel-item:first-child::after {\n",
       "  align-self: flex-end;\n",
       "  width: 50%;\n",
       "}\n",
       "\n",
       "#sk-container-id-1 div.sk-parallel-item:last-child::after {\n",
       "  align-self: flex-start;\n",
       "  width: 50%;\n",
       "}\n",
       "\n",
       "#sk-container-id-1 div.sk-parallel-item:only-child::after {\n",
       "  width: 0;\n",
       "}\n",
       "\n",
       "/* Serial-specific style estimator block */\n",
       "\n",
       "#sk-container-id-1 div.sk-serial {\n",
       "  display: flex;\n",
       "  flex-direction: column;\n",
       "  align-items: center;\n",
       "  background-color: var(--sklearn-color-background);\n",
       "  padding-right: 1em;\n",
       "  padding-left: 1em;\n",
       "}\n",
       "\n",
       "\n",
       "/* Toggleable style: style used for estimator/Pipeline/ColumnTransformer box that is\n",
       "clickable and can be expanded/collapsed.\n",
       "- Pipeline and ColumnTransformer use this feature and define the default style\n",
       "- Estimators will overwrite some part of the style using the `sk-estimator` class\n",
       "*/\n",
       "\n",
       "/* Pipeline and ColumnTransformer style (default) */\n",
       "\n",
       "#sk-container-id-1 div.sk-toggleable {\n",
       "  /* Default theme specific background. It is overwritten whether we have a\n",
       "  specific estimator or a Pipeline/ColumnTransformer */\n",
       "  background-color: var(--sklearn-color-background);\n",
       "}\n",
       "\n",
       "/* Toggleable label */\n",
       "#sk-container-id-1 label.sk-toggleable__label {\n",
       "  cursor: pointer;\n",
       "  display: block;\n",
       "  width: 100%;\n",
       "  margin-bottom: 0;\n",
       "  padding: 0.5em;\n",
       "  box-sizing: border-box;\n",
       "  text-align: center;\n",
       "}\n",
       "\n",
       "#sk-container-id-1 label.sk-toggleable__label-arrow:before {\n",
       "  /* Arrow on the left of the label */\n",
       "  content: \"▸\";\n",
       "  float: left;\n",
       "  margin-right: 0.25em;\n",
       "  color: var(--sklearn-color-icon);\n",
       "}\n",
       "\n",
       "#sk-container-id-1 label.sk-toggleable__label-arrow:hover:before {\n",
       "  color: var(--sklearn-color-text);\n",
       "}\n",
       "\n",
       "/* Toggleable content - dropdown */\n",
       "\n",
       "#sk-container-id-1 div.sk-toggleable__content {\n",
       "  max-height: 0;\n",
       "  max-width: 0;\n",
       "  overflow: hidden;\n",
       "  text-align: left;\n",
       "  /* unfitted */\n",
       "  background-color: var(--sklearn-color-unfitted-level-0);\n",
       "}\n",
       "\n",
       "#sk-container-id-1 div.sk-toggleable__content.fitted {\n",
       "  /* fitted */\n",
       "  background-color: var(--sklearn-color-fitted-level-0);\n",
       "}\n",
       "\n",
       "#sk-container-id-1 div.sk-toggleable__content pre {\n",
       "  margin: 0.2em;\n",
       "  border-radius: 0.25em;\n",
       "  color: var(--sklearn-color-text);\n",
       "  /* unfitted */\n",
       "  background-color: var(--sklearn-color-unfitted-level-0);\n",
       "}\n",
       "\n",
       "#sk-container-id-1 div.sk-toggleable__content.fitted pre {\n",
       "  /* unfitted */\n",
       "  background-color: var(--sklearn-color-fitted-level-0);\n",
       "}\n",
       "\n",
       "#sk-container-id-1 input.sk-toggleable__control:checked~div.sk-toggleable__content {\n",
       "  /* Expand drop-down */\n",
       "  max-height: 200px;\n",
       "  max-width: 100%;\n",
       "  overflow: auto;\n",
       "}\n",
       "\n",
       "#sk-container-id-1 input.sk-toggleable__control:checked~label.sk-toggleable__label-arrow:before {\n",
       "  content: \"▾\";\n",
       "}\n",
       "\n",
       "/* Pipeline/ColumnTransformer-specific style */\n",
       "\n",
       "#sk-container-id-1 div.sk-label input.sk-toggleable__control:checked~label.sk-toggleable__label {\n",
       "  color: var(--sklearn-color-text);\n",
       "  background-color: var(--sklearn-color-unfitted-level-2);\n",
       "}\n",
       "\n",
       "#sk-container-id-1 div.sk-label.fitted input.sk-toggleable__control:checked~label.sk-toggleable__label {\n",
       "  background-color: var(--sklearn-color-fitted-level-2);\n",
       "}\n",
       "\n",
       "/* Estimator-specific style */\n",
       "\n",
       "/* Colorize estimator box */\n",
       "#sk-container-id-1 div.sk-estimator input.sk-toggleable__control:checked~label.sk-toggleable__label {\n",
       "  /* unfitted */\n",
       "  background-color: var(--sklearn-color-unfitted-level-2);\n",
       "}\n",
       "\n",
       "#sk-container-id-1 div.sk-estimator.fitted input.sk-toggleable__control:checked~label.sk-toggleable__label {\n",
       "  /* fitted */\n",
       "  background-color: var(--sklearn-color-fitted-level-2);\n",
       "}\n",
       "\n",
       "#sk-container-id-1 div.sk-label label.sk-toggleable__label,\n",
       "#sk-container-id-1 div.sk-label label {\n",
       "  /* The background is the default theme color */\n",
       "  color: var(--sklearn-color-text-on-default-background);\n",
       "}\n",
       "\n",
       "/* On hover, darken the color of the background */\n",
       "#sk-container-id-1 div.sk-label:hover label.sk-toggleable__label {\n",
       "  color: var(--sklearn-color-text);\n",
       "  background-color: var(--sklearn-color-unfitted-level-2);\n",
       "}\n",
       "\n",
       "/* Label box, darken color on hover, fitted */\n",
       "#sk-container-id-1 div.sk-label.fitted:hover label.sk-toggleable__label.fitted {\n",
       "  color: var(--sklearn-color-text);\n",
       "  background-color: var(--sklearn-color-fitted-level-2);\n",
       "}\n",
       "\n",
       "/* Estimator label */\n",
       "\n",
       "#sk-container-id-1 div.sk-label label {\n",
       "  font-family: monospace;\n",
       "  font-weight: bold;\n",
       "  display: inline-block;\n",
       "  line-height: 1.2em;\n",
       "}\n",
       "\n",
       "#sk-container-id-1 div.sk-label-container {\n",
       "  text-align: center;\n",
       "}\n",
       "\n",
       "/* Estimator-specific */\n",
       "#sk-container-id-1 div.sk-estimator {\n",
       "  font-family: monospace;\n",
       "  border: 1px dotted var(--sklearn-color-border-box);\n",
       "  border-radius: 0.25em;\n",
       "  box-sizing: border-box;\n",
       "  margin-bottom: 0.5em;\n",
       "  /* unfitted */\n",
       "  background-color: var(--sklearn-color-unfitted-level-0);\n",
       "}\n",
       "\n",
       "#sk-container-id-1 div.sk-estimator.fitted {\n",
       "  /* fitted */\n",
       "  background-color: var(--sklearn-color-fitted-level-0);\n",
       "}\n",
       "\n",
       "/* on hover */\n",
       "#sk-container-id-1 div.sk-estimator:hover {\n",
       "  /* unfitted */\n",
       "  background-color: var(--sklearn-color-unfitted-level-2);\n",
       "}\n",
       "\n",
       "#sk-container-id-1 div.sk-estimator.fitted:hover {\n",
       "  /* fitted */\n",
       "  background-color: var(--sklearn-color-fitted-level-2);\n",
       "}\n",
       "\n",
       "/* Specification for estimator info (e.g. \"i\" and \"?\") */\n",
       "\n",
       "/* Common style for \"i\" and \"?\" */\n",
       "\n",
       ".sk-estimator-doc-link,\n",
       "a:link.sk-estimator-doc-link,\n",
       "a:visited.sk-estimator-doc-link {\n",
       "  float: right;\n",
       "  font-size: smaller;\n",
       "  line-height: 1em;\n",
       "  font-family: monospace;\n",
       "  background-color: var(--sklearn-color-background);\n",
       "  border-radius: 1em;\n",
       "  height: 1em;\n",
       "  width: 1em;\n",
       "  text-decoration: none !important;\n",
       "  margin-left: 1ex;\n",
       "  /* unfitted */\n",
       "  border: var(--sklearn-color-unfitted-level-1) 1pt solid;\n",
       "  color: var(--sklearn-color-unfitted-level-1);\n",
       "}\n",
       "\n",
       ".sk-estimator-doc-link.fitted,\n",
       "a:link.sk-estimator-doc-link.fitted,\n",
       "a:visited.sk-estimator-doc-link.fitted {\n",
       "  /* fitted */\n",
       "  border: var(--sklearn-color-fitted-level-1) 1pt solid;\n",
       "  color: var(--sklearn-color-fitted-level-1);\n",
       "}\n",
       "\n",
       "/* On hover */\n",
       "div.sk-estimator:hover .sk-estimator-doc-link:hover,\n",
       ".sk-estimator-doc-link:hover,\n",
       "div.sk-label-container:hover .sk-estimator-doc-link:hover,\n",
       ".sk-estimator-doc-link:hover {\n",
       "  /* unfitted */\n",
       "  background-color: var(--sklearn-color-unfitted-level-3);\n",
       "  color: var(--sklearn-color-background);\n",
       "  text-decoration: none;\n",
       "}\n",
       "\n",
       "div.sk-estimator.fitted:hover .sk-estimator-doc-link.fitted:hover,\n",
       ".sk-estimator-doc-link.fitted:hover,\n",
       "div.sk-label-container:hover .sk-estimator-doc-link.fitted:hover,\n",
       ".sk-estimator-doc-link.fitted:hover {\n",
       "  /* fitted */\n",
       "  background-color: var(--sklearn-color-fitted-level-3);\n",
       "  color: var(--sklearn-color-background);\n",
       "  text-decoration: none;\n",
       "}\n",
       "\n",
       "/* Span, style for the box shown on hovering the info icon */\n",
       ".sk-estimator-doc-link span {\n",
       "  display: none;\n",
       "  z-index: 9999;\n",
       "  position: relative;\n",
       "  font-weight: normal;\n",
       "  right: .2ex;\n",
       "  padding: .5ex;\n",
       "  margin: .5ex;\n",
       "  width: min-content;\n",
       "  min-width: 20ex;\n",
       "  max-width: 50ex;\n",
       "  color: var(--sklearn-color-text);\n",
       "  box-shadow: 2pt 2pt 4pt #999;\n",
       "  /* unfitted */\n",
       "  background: var(--sklearn-color-unfitted-level-0);\n",
       "  border: .5pt solid var(--sklearn-color-unfitted-level-3);\n",
       "}\n",
       "\n",
       ".sk-estimator-doc-link.fitted span {\n",
       "  /* fitted */\n",
       "  background: var(--sklearn-color-fitted-level-0);\n",
       "  border: var(--sklearn-color-fitted-level-3);\n",
       "}\n",
       "\n",
       ".sk-estimator-doc-link:hover span {\n",
       "  display: block;\n",
       "}\n",
       "\n",
       "/* \"?\"-specific style due to the `<a>` HTML tag */\n",
       "\n",
       "#sk-container-id-1 a.estimator_doc_link {\n",
       "  float: right;\n",
       "  font-size: 1rem;\n",
       "  line-height: 1em;\n",
       "  font-family: monospace;\n",
       "  background-color: var(--sklearn-color-background);\n",
       "  border-radius: 1rem;\n",
       "  height: 1rem;\n",
       "  width: 1rem;\n",
       "  text-decoration: none;\n",
       "  /* unfitted */\n",
       "  color: var(--sklearn-color-unfitted-level-1);\n",
       "  border: var(--sklearn-color-unfitted-level-1) 1pt solid;\n",
       "}\n",
       "\n",
       "#sk-container-id-1 a.estimator_doc_link.fitted {\n",
       "  /* fitted */\n",
       "  border: var(--sklearn-color-fitted-level-1) 1pt solid;\n",
       "  color: var(--sklearn-color-fitted-level-1);\n",
       "}\n",
       "\n",
       "/* On hover */\n",
       "#sk-container-id-1 a.estimator_doc_link:hover {\n",
       "  /* unfitted */\n",
       "  background-color: var(--sklearn-color-unfitted-level-3);\n",
       "  color: var(--sklearn-color-background);\n",
       "  text-decoration: none;\n",
       "}\n",
       "\n",
       "#sk-container-id-1 a.estimator_doc_link.fitted:hover {\n",
       "  /* fitted */\n",
       "  background-color: var(--sklearn-color-fitted-level-3);\n",
       "}\n",
       "</style><div id=\"sk-container-id-1\" class=\"sk-top-container\"><div class=\"sk-text-repr-fallback\"><pre>LogisticRegression(max_iter=200)</pre><b>In a Jupyter environment, please rerun this cell to show the HTML representation or trust the notebook. <br />On GitHub, the HTML representation is unable to render, please try loading this page with nbviewer.org.</b></div><div class=\"sk-container\" hidden><div class=\"sk-item\"><div class=\"sk-estimator fitted sk-toggleable\"><input class=\"sk-toggleable__control sk-hidden--visually\" id=\"sk-estimator-id-1\" type=\"checkbox\" checked><label for=\"sk-estimator-id-1\" class=\"sk-toggleable__label fitted sk-toggleable__label-arrow fitted\">&nbsp;&nbsp;LogisticRegression<a class=\"sk-estimator-doc-link fitted\" rel=\"noreferrer\" target=\"_blank\" href=\"https://scikit-learn.org/1.4/modules/generated/sklearn.linear_model.LogisticRegression.html\">?<span>Documentation for LogisticRegression</span></a><span class=\"sk-estimator-doc-link fitted\">i<span>Fitted</span></span></label><div class=\"sk-toggleable__content fitted\"><pre>LogisticRegression(max_iter=200)</pre></div> </div></div></div></div>"
      ],
      "text/plain": [
       "LogisticRegression(max_iter=200)"
      ]
     },
     "execution_count": 71,
     "metadata": {},
     "output_type": "execute_result"
    }
   ],
   "source": [
    "reg.fit(lgd_input_train,lgd_target_train)"
   ]
  },
  {
   "cell_type": "code",
   "execution_count": 73,
   "id": "bf0c2e70",
   "metadata": {
    "id": "bf0c2e70",
    "outputId": "660c24ad-8551-4b1d-981a-32dee8235eba"
   },
   "outputs": [
    {
     "data": {
      "text/plain": [
       "(8156, 153)"
      ]
     },
     "execution_count": 73,
     "metadata": {},
     "output_type": "execute_result"
    }
   ],
   "source": [
    "lgd_input_test.shape"
   ]
  },
  {
   "cell_type": "code",
   "execution_count": 75,
   "id": "bdf550d7",
   "metadata": {
    "id": "bdf550d7"
   },
   "outputs": [],
   "source": [
    "lgd_input_test = lgd_input_test.drop(ref_categories,axis=1)"
   ]
  },
  {
   "cell_type": "code",
   "execution_count": 77,
   "id": "f2e6640a",
   "metadata": {
    "id": "f2e6640a",
    "outputId": "dbb17be2-4b18-40fd-8c2e-8f6bef8fb3d7"
   },
   "outputs": [
    {
     "data": {
      "text/plain": [
       "(8156, 131)"
      ]
     },
     "execution_count": 77,
     "metadata": {},
     "output_type": "execute_result"
    }
   ],
   "source": [
    "lgd_input_test.shape"
   ]
  },
  {
   "cell_type": "code",
   "execution_count": 79,
   "id": "c8b296d0",
   "metadata": {
    "id": "c8b296d0"
   },
   "outputs": [],
   "source": [
    "pred = reg.predict(lgd_input_test)"
   ]
  },
  {
   "cell_type": "code",
   "execution_count": 81,
   "id": "ca35ce9e",
   "metadata": {
    "id": "ca35ce9e"
   },
   "outputs": [],
   "source": [
    "prob_pred = reg.predict_proba(lgd_input_test)[:][:,1]"
   ]
  },
  {
   "cell_type": "code",
   "execution_count": 83,
   "id": "5b0edaeb",
   "metadata": {
    "id": "5b0edaeb"
   },
   "outputs": [],
   "source": [
    "df_actual_predicted_probs = pd.DataFrame()"
   ]
  },
  {
   "cell_type": "code",
   "execution_count": 85,
   "id": "a97dc7e2",
   "metadata": {
    "id": "a97dc7e2"
   },
   "outputs": [],
   "source": [
    "df_actual_predicted_probs['lgd_test_outcome'] =pred\n",
    "df_actual_predicted_probs['lgd_test_proba'] = prob_pred"
   ]
  },
  {
   "cell_type": "code",
   "execution_count": 87,
   "id": "6707a986",
   "metadata": {
    "id": "6707a986",
    "outputId": "1524cdaf-1219-4f71-e86a-14eb00b9acc6"
   },
   "outputs": [
    {
     "data": {
      "text/html": [
       "<div>\n",
       "<style scoped>\n",
       "    .dataframe tbody tr th:only-of-type {\n",
       "        vertical-align: middle;\n",
       "    }\n",
       "\n",
       "    .dataframe tbody tr th {\n",
       "        vertical-align: top;\n",
       "    }\n",
       "\n",
       "    .dataframe thead th {\n",
       "        text-align: right;\n",
       "    }\n",
       "</style>\n",
       "<table border=\"1\" class=\"dataframe\">\n",
       "  <thead>\n",
       "    <tr style=\"text-align: right;\">\n",
       "      <th></th>\n",
       "      <th>lgd_test_outcome</th>\n",
       "      <th>lgd_test_proba</th>\n",
       "    </tr>\n",
       "  </thead>\n",
       "  <tbody>\n",
       "    <tr>\n",
       "      <th>0</th>\n",
       "      <td>1</td>\n",
       "      <td>0.706617</td>\n",
       "    </tr>\n",
       "    <tr>\n",
       "      <th>1</th>\n",
       "      <td>0</td>\n",
       "      <td>0.476334</td>\n",
       "    </tr>\n",
       "    <tr>\n",
       "      <th>2</th>\n",
       "      <td>0</td>\n",
       "      <td>0.463241</td>\n",
       "    </tr>\n",
       "    <tr>\n",
       "      <th>3</th>\n",
       "      <td>1</td>\n",
       "      <td>0.675896</td>\n",
       "    </tr>\n",
       "    <tr>\n",
       "      <th>4</th>\n",
       "      <td>0</td>\n",
       "      <td>0.469370</td>\n",
       "    </tr>\n",
       "  </tbody>\n",
       "</table>\n",
       "</div>"
      ],
      "text/plain": [
       "   lgd_test_outcome  lgd_test_proba\n",
       "0                 1        0.706617\n",
       "1                 0        0.476334\n",
       "2                 0        0.463241\n",
       "3                 1        0.675896\n",
       "4                 0        0.469370"
      ]
     },
     "execution_count": 87,
     "metadata": {},
     "output_type": "execute_result"
    }
   ],
   "source": [
    "df_actual_predicted_probs.head()"
   ]
  },
  {
   "cell_type": "code",
   "execution_count": 89,
   "id": "78839971",
   "metadata": {
    "id": "78839971",
    "outputId": "a8b79772-d85f-463d-9315-0b8aaf9a6437"
   },
   "outputs": [
    {
     "data": {
      "text/plain": [
       "(8156, 2)"
      ]
     },
     "execution_count": 89,
     "metadata": {},
     "output_type": "execute_result"
    }
   ],
   "source": [
    "df_actual_predicted_probs.shape"
   ]
  },
  {
   "cell_type": "code",
   "execution_count": 91,
   "id": "28fe5212",
   "metadata": {
    "id": "28fe5212",
    "outputId": "7055733c-10a2-471e-d4bb-532d0caab1c5"
   },
   "outputs": [
    {
     "data": {
      "text/plain": [
       "array([[2852, 1379],\n",
       "       [1169, 2756]])"
      ]
     },
     "execution_count": 91,
     "metadata": {},
     "output_type": "execute_result"
    }
   ],
   "source": [
    "metrics.confusion_matrix(lgd_target_test,pred)"
   ]
  },
  {
   "cell_type": "code",
   "execution_count": 93,
   "id": "fc1ce297",
   "metadata": {
    "id": "fc1ce297",
    "outputId": "61ae3403-23fb-4da3-9060-1c7856293b55"
   },
   "outputs": [
    {
     "data": {
      "text/plain": [
       "0.687591956841589"
      ]
     },
     "execution_count": 93,
     "metadata": {},
     "output_type": "execute_result"
    }
   ],
   "source": [
    "metrics.accuracy_score(lgd_target_test,pred)"
   ]
  },
  {
   "cell_type": "code",
   "execution_count": 95,
   "id": "576facf3",
   "metadata": {
    "id": "576facf3"
   },
   "outputs": [],
   "source": [
    "import pickle"
   ]
  },
  {
   "cell_type": "code",
   "execution_count": 97,
   "id": "8782af36",
   "metadata": {
    "id": "8782af36"
   },
   "outputs": [],
   "source": [
    "pickle.dump(reg,open('lgd_stage_1.sav','wb'))"
   ]
  },
  {
   "cell_type": "markdown",
   "id": "592bb8b9",
   "metadata": {
    "id": "592bb8b9"
   },
   "source": [
    "stage-2...where >0 linear reg to determine how much >0   for recovery rate"
   ]
  },
  {
   "cell_type": "markdown",
   "id": "TIETFj0vRqMX",
   "metadata": {
    "id": "TIETFj0vRqMX"
   },
   "source": [
    "Stage_2:Take those records where recovery_rate_0_1 is 1 and determine the recovery_rate by Linear REG"
   ]
  },
  {
   "cell_type": "code",
   "execution_count": 99,
   "id": "aec5e471",
   "metadata": {
    "id": "aec5e471"
   },
   "outputs": [],
   "source": [
    "lgd_loan_data_2 = load_data_defaults[load_data_defaults['recovery_rate_0_1'] == 1]"
   ]
  },
  {
   "cell_type": "code",
   "execution_count": 103,
   "id": "428d49ae",
   "metadata": {
    "id": "428d49ae",
    "outputId": "ceabcba7-f00f-4d7f-a23b-4377693b56aa"
   },
   "outputs": [
    {
     "data": {
      "text/plain": [
       "(19502, 157)"
      ]
     },
     "execution_count": 103,
     "metadata": {},
     "output_type": "execute_result"
    }
   ],
   "source": [
    "lgd_loan_data_2.shape"
   ]
  },
  {
   "cell_type": "code",
   "execution_count": 105,
   "id": "3f2ed807",
   "metadata": {
    "id": "3f2ed807"
   },
   "outputs": [],
   "source": [
    "lgd_input_train_2,lgd_input_test_2,lgd_target_train_2,lgd_target_test_2 = train_test_split(lgd_loan_data_2.drop(['recoveries','recovery_rate','recovery_rate_0_1','CCF'],axis=1),lgd_loan_data_2['recovery_rate'],test_size=0.2,random_state=42)"
   ]
  },
  {
   "cell_type": "code",
   "execution_count": 107,
   "id": "580c8473",
   "metadata": {
    "id": "580c8473"
   },
   "outputs": [],
   "source": [
    "lgd_input_train_2 =lgd_input_train_2.drop(ref_categories,axis=1)"
   ]
  },
  {
   "cell_type": "code",
   "execution_count": 109,
   "id": "dc6f02ae",
   "metadata": {
    "id": "dc6f02ae"
   },
   "outputs": [],
   "source": [
    "from sklearn.linear_model import LinearRegression"
   ]
  },
  {
   "cell_type": "code",
   "execution_count": 111,
   "id": "4e22535d",
   "metadata": {
    "id": "4e22535d"
   },
   "outputs": [],
   "source": [
    "lin_reg =LinearRegression()"
   ]
  },
  {
   "cell_type": "code",
   "execution_count": 113,
   "id": "a9b26776",
   "metadata": {
    "id": "a9b26776",
    "outputId": "46db1456-1a3e-4c88-efe7-88ece7bb9683"
   },
   "outputs": [
    {
     "data": {
      "text/html": [
       "<style>#sk-container-id-2 {\n",
       "  /* Definition of color scheme common for light and dark mode */\n",
       "  --sklearn-color-text: black;\n",
       "  --sklearn-color-line: gray;\n",
       "  /* Definition of color scheme for unfitted estimators */\n",
       "  --sklearn-color-unfitted-level-0: #fff5e6;\n",
       "  --sklearn-color-unfitted-level-1: #f6e4d2;\n",
       "  --sklearn-color-unfitted-level-2: #ffe0b3;\n",
       "  --sklearn-color-unfitted-level-3: chocolate;\n",
       "  /* Definition of color scheme for fitted estimators */\n",
       "  --sklearn-color-fitted-level-0: #f0f8ff;\n",
       "  --sklearn-color-fitted-level-1: #d4ebff;\n",
       "  --sklearn-color-fitted-level-2: #b3dbfd;\n",
       "  --sklearn-color-fitted-level-3: cornflowerblue;\n",
       "\n",
       "  /* Specific color for light theme */\n",
       "  --sklearn-color-text-on-default-background: var(--sg-text-color, var(--theme-code-foreground, var(--jp-content-font-color1, black)));\n",
       "  --sklearn-color-background: var(--sg-background-color, var(--theme-background, var(--jp-layout-color0, white)));\n",
       "  --sklearn-color-border-box: var(--sg-text-color, var(--theme-code-foreground, var(--jp-content-font-color1, black)));\n",
       "  --sklearn-color-icon: #696969;\n",
       "\n",
       "  @media (prefers-color-scheme: dark) {\n",
       "    /* Redefinition of color scheme for dark theme */\n",
       "    --sklearn-color-text-on-default-background: var(--sg-text-color, var(--theme-code-foreground, var(--jp-content-font-color1, white)));\n",
       "    --sklearn-color-background: var(--sg-background-color, var(--theme-background, var(--jp-layout-color0, #111)));\n",
       "    --sklearn-color-border-box: var(--sg-text-color, var(--theme-code-foreground, var(--jp-content-font-color1, white)));\n",
       "    --sklearn-color-icon: #878787;\n",
       "  }\n",
       "}\n",
       "\n",
       "#sk-container-id-2 {\n",
       "  color: var(--sklearn-color-text);\n",
       "}\n",
       "\n",
       "#sk-container-id-2 pre {\n",
       "  padding: 0;\n",
       "}\n",
       "\n",
       "#sk-container-id-2 input.sk-hidden--visually {\n",
       "  border: 0;\n",
       "  clip: rect(1px 1px 1px 1px);\n",
       "  clip: rect(1px, 1px, 1px, 1px);\n",
       "  height: 1px;\n",
       "  margin: -1px;\n",
       "  overflow: hidden;\n",
       "  padding: 0;\n",
       "  position: absolute;\n",
       "  width: 1px;\n",
       "}\n",
       "\n",
       "#sk-container-id-2 div.sk-dashed-wrapped {\n",
       "  border: 1px dashed var(--sklearn-color-line);\n",
       "  margin: 0 0.4em 0.5em 0.4em;\n",
       "  box-sizing: border-box;\n",
       "  padding-bottom: 0.4em;\n",
       "  background-color: var(--sklearn-color-background);\n",
       "}\n",
       "\n",
       "#sk-container-id-2 div.sk-container {\n",
       "  /* jupyter's `normalize.less` sets `[hidden] { display: none; }`\n",
       "     but bootstrap.min.css set `[hidden] { display: none !important; }`\n",
       "     so we also need the `!important` here to be able to override the\n",
       "     default hidden behavior on the sphinx rendered scikit-learn.org.\n",
       "     See: https://github.com/scikit-learn/scikit-learn/issues/21755 */\n",
       "  display: inline-block !important;\n",
       "  position: relative;\n",
       "}\n",
       "\n",
       "#sk-container-id-2 div.sk-text-repr-fallback {\n",
       "  display: none;\n",
       "}\n",
       "\n",
       "div.sk-parallel-item,\n",
       "div.sk-serial,\n",
       "div.sk-item {\n",
       "  /* draw centered vertical line to link estimators */\n",
       "  background-image: linear-gradient(var(--sklearn-color-text-on-default-background), var(--sklearn-color-text-on-default-background));\n",
       "  background-size: 2px 100%;\n",
       "  background-repeat: no-repeat;\n",
       "  background-position: center center;\n",
       "}\n",
       "\n",
       "/* Parallel-specific style estimator block */\n",
       "\n",
       "#sk-container-id-2 div.sk-parallel-item::after {\n",
       "  content: \"\";\n",
       "  width: 100%;\n",
       "  border-bottom: 2px solid var(--sklearn-color-text-on-default-background);\n",
       "  flex-grow: 1;\n",
       "}\n",
       "\n",
       "#sk-container-id-2 div.sk-parallel {\n",
       "  display: flex;\n",
       "  align-items: stretch;\n",
       "  justify-content: center;\n",
       "  background-color: var(--sklearn-color-background);\n",
       "  position: relative;\n",
       "}\n",
       "\n",
       "#sk-container-id-2 div.sk-parallel-item {\n",
       "  display: flex;\n",
       "  flex-direction: column;\n",
       "}\n",
       "\n",
       "#sk-container-id-2 div.sk-parallel-item:first-child::after {\n",
       "  align-self: flex-end;\n",
       "  width: 50%;\n",
       "}\n",
       "\n",
       "#sk-container-id-2 div.sk-parallel-item:last-child::after {\n",
       "  align-self: flex-start;\n",
       "  width: 50%;\n",
       "}\n",
       "\n",
       "#sk-container-id-2 div.sk-parallel-item:only-child::after {\n",
       "  width: 0;\n",
       "}\n",
       "\n",
       "/* Serial-specific style estimator block */\n",
       "\n",
       "#sk-container-id-2 div.sk-serial {\n",
       "  display: flex;\n",
       "  flex-direction: column;\n",
       "  align-items: center;\n",
       "  background-color: var(--sklearn-color-background);\n",
       "  padding-right: 1em;\n",
       "  padding-left: 1em;\n",
       "}\n",
       "\n",
       "\n",
       "/* Toggleable style: style used for estimator/Pipeline/ColumnTransformer box that is\n",
       "clickable and can be expanded/collapsed.\n",
       "- Pipeline and ColumnTransformer use this feature and define the default style\n",
       "- Estimators will overwrite some part of the style using the `sk-estimator` class\n",
       "*/\n",
       "\n",
       "/* Pipeline and ColumnTransformer style (default) */\n",
       "\n",
       "#sk-container-id-2 div.sk-toggleable {\n",
       "  /* Default theme specific background. It is overwritten whether we have a\n",
       "  specific estimator or a Pipeline/ColumnTransformer */\n",
       "  background-color: var(--sklearn-color-background);\n",
       "}\n",
       "\n",
       "/* Toggleable label */\n",
       "#sk-container-id-2 label.sk-toggleable__label {\n",
       "  cursor: pointer;\n",
       "  display: block;\n",
       "  width: 100%;\n",
       "  margin-bottom: 0;\n",
       "  padding: 0.5em;\n",
       "  box-sizing: border-box;\n",
       "  text-align: center;\n",
       "}\n",
       "\n",
       "#sk-container-id-2 label.sk-toggleable__label-arrow:before {\n",
       "  /* Arrow on the left of the label */\n",
       "  content: \"▸\";\n",
       "  float: left;\n",
       "  margin-right: 0.25em;\n",
       "  color: var(--sklearn-color-icon);\n",
       "}\n",
       "\n",
       "#sk-container-id-2 label.sk-toggleable__label-arrow:hover:before {\n",
       "  color: var(--sklearn-color-text);\n",
       "}\n",
       "\n",
       "/* Toggleable content - dropdown */\n",
       "\n",
       "#sk-container-id-2 div.sk-toggleable__content {\n",
       "  max-height: 0;\n",
       "  max-width: 0;\n",
       "  overflow: hidden;\n",
       "  text-align: left;\n",
       "  /* unfitted */\n",
       "  background-color: var(--sklearn-color-unfitted-level-0);\n",
       "}\n",
       "\n",
       "#sk-container-id-2 div.sk-toggleable__content.fitted {\n",
       "  /* fitted */\n",
       "  background-color: var(--sklearn-color-fitted-level-0);\n",
       "}\n",
       "\n",
       "#sk-container-id-2 div.sk-toggleable__content pre {\n",
       "  margin: 0.2em;\n",
       "  border-radius: 0.25em;\n",
       "  color: var(--sklearn-color-text);\n",
       "  /* unfitted */\n",
       "  background-color: var(--sklearn-color-unfitted-level-0);\n",
       "}\n",
       "\n",
       "#sk-container-id-2 div.sk-toggleable__content.fitted pre {\n",
       "  /* unfitted */\n",
       "  background-color: var(--sklearn-color-fitted-level-0);\n",
       "}\n",
       "\n",
       "#sk-container-id-2 input.sk-toggleable__control:checked~div.sk-toggleable__content {\n",
       "  /* Expand drop-down */\n",
       "  max-height: 200px;\n",
       "  max-width: 100%;\n",
       "  overflow: auto;\n",
       "}\n",
       "\n",
       "#sk-container-id-2 input.sk-toggleable__control:checked~label.sk-toggleable__label-arrow:before {\n",
       "  content: \"▾\";\n",
       "}\n",
       "\n",
       "/* Pipeline/ColumnTransformer-specific style */\n",
       "\n",
       "#sk-container-id-2 div.sk-label input.sk-toggleable__control:checked~label.sk-toggleable__label {\n",
       "  color: var(--sklearn-color-text);\n",
       "  background-color: var(--sklearn-color-unfitted-level-2);\n",
       "}\n",
       "\n",
       "#sk-container-id-2 div.sk-label.fitted input.sk-toggleable__control:checked~label.sk-toggleable__label {\n",
       "  background-color: var(--sklearn-color-fitted-level-2);\n",
       "}\n",
       "\n",
       "/* Estimator-specific style */\n",
       "\n",
       "/* Colorize estimator box */\n",
       "#sk-container-id-2 div.sk-estimator input.sk-toggleable__control:checked~label.sk-toggleable__label {\n",
       "  /* unfitted */\n",
       "  background-color: var(--sklearn-color-unfitted-level-2);\n",
       "}\n",
       "\n",
       "#sk-container-id-2 div.sk-estimator.fitted input.sk-toggleable__control:checked~label.sk-toggleable__label {\n",
       "  /* fitted */\n",
       "  background-color: var(--sklearn-color-fitted-level-2);\n",
       "}\n",
       "\n",
       "#sk-container-id-2 div.sk-label label.sk-toggleable__label,\n",
       "#sk-container-id-2 div.sk-label label {\n",
       "  /* The background is the default theme color */\n",
       "  color: var(--sklearn-color-text-on-default-background);\n",
       "}\n",
       "\n",
       "/* On hover, darken the color of the background */\n",
       "#sk-container-id-2 div.sk-label:hover label.sk-toggleable__label {\n",
       "  color: var(--sklearn-color-text);\n",
       "  background-color: var(--sklearn-color-unfitted-level-2);\n",
       "}\n",
       "\n",
       "/* Label box, darken color on hover, fitted */\n",
       "#sk-container-id-2 div.sk-label.fitted:hover label.sk-toggleable__label.fitted {\n",
       "  color: var(--sklearn-color-text);\n",
       "  background-color: var(--sklearn-color-fitted-level-2);\n",
       "}\n",
       "\n",
       "/* Estimator label */\n",
       "\n",
       "#sk-container-id-2 div.sk-label label {\n",
       "  font-family: monospace;\n",
       "  font-weight: bold;\n",
       "  display: inline-block;\n",
       "  line-height: 1.2em;\n",
       "}\n",
       "\n",
       "#sk-container-id-2 div.sk-label-container {\n",
       "  text-align: center;\n",
       "}\n",
       "\n",
       "/* Estimator-specific */\n",
       "#sk-container-id-2 div.sk-estimator {\n",
       "  font-family: monospace;\n",
       "  border: 1px dotted var(--sklearn-color-border-box);\n",
       "  border-radius: 0.25em;\n",
       "  box-sizing: border-box;\n",
       "  margin-bottom: 0.5em;\n",
       "  /* unfitted */\n",
       "  background-color: var(--sklearn-color-unfitted-level-0);\n",
       "}\n",
       "\n",
       "#sk-container-id-2 div.sk-estimator.fitted {\n",
       "  /* fitted */\n",
       "  background-color: var(--sklearn-color-fitted-level-0);\n",
       "}\n",
       "\n",
       "/* on hover */\n",
       "#sk-container-id-2 div.sk-estimator:hover {\n",
       "  /* unfitted */\n",
       "  background-color: var(--sklearn-color-unfitted-level-2);\n",
       "}\n",
       "\n",
       "#sk-container-id-2 div.sk-estimator.fitted:hover {\n",
       "  /* fitted */\n",
       "  background-color: var(--sklearn-color-fitted-level-2);\n",
       "}\n",
       "\n",
       "/* Specification for estimator info (e.g. \"i\" and \"?\") */\n",
       "\n",
       "/* Common style for \"i\" and \"?\" */\n",
       "\n",
       ".sk-estimator-doc-link,\n",
       "a:link.sk-estimator-doc-link,\n",
       "a:visited.sk-estimator-doc-link {\n",
       "  float: right;\n",
       "  font-size: smaller;\n",
       "  line-height: 1em;\n",
       "  font-family: monospace;\n",
       "  background-color: var(--sklearn-color-background);\n",
       "  border-radius: 1em;\n",
       "  height: 1em;\n",
       "  width: 1em;\n",
       "  text-decoration: none !important;\n",
       "  margin-left: 1ex;\n",
       "  /* unfitted */\n",
       "  border: var(--sklearn-color-unfitted-level-1) 1pt solid;\n",
       "  color: var(--sklearn-color-unfitted-level-1);\n",
       "}\n",
       "\n",
       ".sk-estimator-doc-link.fitted,\n",
       "a:link.sk-estimator-doc-link.fitted,\n",
       "a:visited.sk-estimator-doc-link.fitted {\n",
       "  /* fitted */\n",
       "  border: var(--sklearn-color-fitted-level-1) 1pt solid;\n",
       "  color: var(--sklearn-color-fitted-level-1);\n",
       "}\n",
       "\n",
       "/* On hover */\n",
       "div.sk-estimator:hover .sk-estimator-doc-link:hover,\n",
       ".sk-estimator-doc-link:hover,\n",
       "div.sk-label-container:hover .sk-estimator-doc-link:hover,\n",
       ".sk-estimator-doc-link:hover {\n",
       "  /* unfitted */\n",
       "  background-color: var(--sklearn-color-unfitted-level-3);\n",
       "  color: var(--sklearn-color-background);\n",
       "  text-decoration: none;\n",
       "}\n",
       "\n",
       "div.sk-estimator.fitted:hover .sk-estimator-doc-link.fitted:hover,\n",
       ".sk-estimator-doc-link.fitted:hover,\n",
       "div.sk-label-container:hover .sk-estimator-doc-link.fitted:hover,\n",
       ".sk-estimator-doc-link.fitted:hover {\n",
       "  /* fitted */\n",
       "  background-color: var(--sklearn-color-fitted-level-3);\n",
       "  color: var(--sklearn-color-background);\n",
       "  text-decoration: none;\n",
       "}\n",
       "\n",
       "/* Span, style for the box shown on hovering the info icon */\n",
       ".sk-estimator-doc-link span {\n",
       "  display: none;\n",
       "  z-index: 9999;\n",
       "  position: relative;\n",
       "  font-weight: normal;\n",
       "  right: .2ex;\n",
       "  padding: .5ex;\n",
       "  margin: .5ex;\n",
       "  width: min-content;\n",
       "  min-width: 20ex;\n",
       "  max-width: 50ex;\n",
       "  color: var(--sklearn-color-text);\n",
       "  box-shadow: 2pt 2pt 4pt #999;\n",
       "  /* unfitted */\n",
       "  background: var(--sklearn-color-unfitted-level-0);\n",
       "  border: .5pt solid var(--sklearn-color-unfitted-level-3);\n",
       "}\n",
       "\n",
       ".sk-estimator-doc-link.fitted span {\n",
       "  /* fitted */\n",
       "  background: var(--sklearn-color-fitted-level-0);\n",
       "  border: var(--sklearn-color-fitted-level-3);\n",
       "}\n",
       "\n",
       ".sk-estimator-doc-link:hover span {\n",
       "  display: block;\n",
       "}\n",
       "\n",
       "/* \"?\"-specific style due to the `<a>` HTML tag */\n",
       "\n",
       "#sk-container-id-2 a.estimator_doc_link {\n",
       "  float: right;\n",
       "  font-size: 1rem;\n",
       "  line-height: 1em;\n",
       "  font-family: monospace;\n",
       "  background-color: var(--sklearn-color-background);\n",
       "  border-radius: 1rem;\n",
       "  height: 1rem;\n",
       "  width: 1rem;\n",
       "  text-decoration: none;\n",
       "  /* unfitted */\n",
       "  color: var(--sklearn-color-unfitted-level-1);\n",
       "  border: var(--sklearn-color-unfitted-level-1) 1pt solid;\n",
       "}\n",
       "\n",
       "#sk-container-id-2 a.estimator_doc_link.fitted {\n",
       "  /* fitted */\n",
       "  border: var(--sklearn-color-fitted-level-1) 1pt solid;\n",
       "  color: var(--sklearn-color-fitted-level-1);\n",
       "}\n",
       "\n",
       "/* On hover */\n",
       "#sk-container-id-2 a.estimator_doc_link:hover {\n",
       "  /* unfitted */\n",
       "  background-color: var(--sklearn-color-unfitted-level-3);\n",
       "  color: var(--sklearn-color-background);\n",
       "  text-decoration: none;\n",
       "}\n",
       "\n",
       "#sk-container-id-2 a.estimator_doc_link.fitted:hover {\n",
       "  /* fitted */\n",
       "  background-color: var(--sklearn-color-fitted-level-3);\n",
       "}\n",
       "</style><div id=\"sk-container-id-2\" class=\"sk-top-container\"><div class=\"sk-text-repr-fallback\"><pre>LinearRegression()</pre><b>In a Jupyter environment, please rerun this cell to show the HTML representation or trust the notebook. <br />On GitHub, the HTML representation is unable to render, please try loading this page with nbviewer.org.</b></div><div class=\"sk-container\" hidden><div class=\"sk-item\"><div class=\"sk-estimator fitted sk-toggleable\"><input class=\"sk-toggleable__control sk-hidden--visually\" id=\"sk-estimator-id-2\" type=\"checkbox\" checked><label for=\"sk-estimator-id-2\" class=\"sk-toggleable__label fitted sk-toggleable__label-arrow fitted\">&nbsp;&nbsp;LinearRegression<a class=\"sk-estimator-doc-link fitted\" rel=\"noreferrer\" target=\"_blank\" href=\"https://scikit-learn.org/1.4/modules/generated/sklearn.linear_model.LinearRegression.html\">?<span>Documentation for LinearRegression</span></a><span class=\"sk-estimator-doc-link fitted\">i<span>Fitted</span></span></label><div class=\"sk-toggleable__content fitted\"><pre>LinearRegression()</pre></div> </div></div></div></div>"
      ],
      "text/plain": [
       "LinearRegression()"
      ]
     },
     "execution_count": 113,
     "metadata": {},
     "output_type": "execute_result"
    }
   ],
   "source": [
    "lin_reg.fit(lgd_input_train_2,lgd_target_train_2)"
   ]
  },
  {
   "cell_type": "code",
   "execution_count": 115,
   "id": "f7e025d7",
   "metadata": {
    "id": "f7e025d7"
   },
   "outputs": [],
   "source": [
    "lgd_input_test_2 = lgd_input_test_2.drop(ref_categories,axis=1)"
   ]
  },
  {
   "cell_type": "code",
   "execution_count": 117,
   "id": "1c075689",
   "metadata": {
    "id": "1c075689",
    "outputId": "31dbfae6-42b3-4ecb-80a7-d08615842fb5"
   },
   "outputs": [
    {
     "data": {
      "text/plain": [
       "(3901, 131)"
      ]
     },
     "execution_count": 117,
     "metadata": {},
     "output_type": "execute_result"
    }
   ],
   "source": [
    "lgd_input_test_2.shape"
   ]
  },
  {
   "cell_type": "code",
   "execution_count": 119,
   "id": "9cafc941",
   "metadata": {
    "id": "9cafc941"
   },
   "outputs": [],
   "source": [
    "pred_lin = lin_reg.predict(lgd_input_test_2)"
   ]
  },
  {
   "cell_type": "code",
   "execution_count": 121,
   "id": "b84a4458",
   "metadata": {
    "id": "b84a4458",
    "outputId": "ace41487-02e6-4ecf-e24e-ccc728abec1f"
   },
   "outputs": [
    {
     "data": {
      "text/plain": [
       "array([0.13567379, 0.06718956, 0.09462008, ..., 0.12465915, 0.07248101,\n",
       "       0.08528765])"
      ]
     },
     "execution_count": 121,
     "metadata": {},
     "output_type": "execute_result"
    }
   ],
   "source": [
    "pred_lin"
   ]
  },
  {
   "cell_type": "code",
   "execution_count": 123,
   "id": "83ad20ad",
   "metadata": {
    "id": "83ad20ad",
    "outputId": "0e4b037c-a7dc-42c2-bdd5-113e899cbbb7"
   },
   "outputs": [
    {
     "data": {
      "text/plain": [
       "0.12478323688474668"
      ]
     },
     "execution_count": 123,
     "metadata": {},
     "output_type": "execute_result"
    }
   ],
   "source": [
    "metrics.r2_score(lgd_target_test_2,pred_lin)"
   ]
  },
  {
   "cell_type": "code",
   "execution_count": 125,
   "id": "78337475",
   "metadata": {
    "id": "78337475",
    "outputId": "17d3ef4f-f4b2-459e-8fc6-28761e9f3c70"
   },
   "outputs": [
    {
     "data": {
      "image/png": "[encoded data removed]",
      "text/plain": [
       "<Figure size 640x480 with 1 Axes>"
      ]
     },
     "metadata": {},
     "output_type": "display_data"
    }
   ],
   "source": [
    "sns.distplot(lgd_target_test_2-pred_lin)\n",
    "\n",
    "plt.show()"
   ]
  },
  {
   "cell_type": "code",
   "execution_count": 127,
   "id": "da0f73e3",
   "metadata": {
    "id": "da0f73e3"
   },
   "outputs": [],
   "source": [
    "pickle.dump(lin_reg,open('lgd_stage_2.sav','wb'))"
   ]
  },
  {
   "cell_type": "markdown",
   "id": "b61e1b61",
   "metadata": {
    "id": "b61e1b61"
   },
   "source": [
    "# combination of stage1 and stage2"
   ]
  },
  {
   "cell_type": "markdown",
   "id": "KqeA0iaXI5DV",
   "metadata": {
    "id": "KqeA0iaXI5DV"
   },
   "source": [
    "we will multiply the results of stage_1 and stage_2"
   ]
  },
  {
   "cell_type": "code",
   "execution_count": 129,
   "id": "52b38a12",
   "metadata": {
    "id": "52b38a12"
   },
   "outputs": [],
   "source": [
    "pred_stage_2_all = lin_reg.predict(lgd_input_test)"
   ]
  },
  {
   "cell_type": "code",
   "execution_count": 131,
   "id": "7734605c",
   "metadata": {
    "id": "7734605c",
    "outputId": "26096738-e898-4819-befe-148647125f06"
   },
   "outputs": [
    {
     "data": {
      "text/plain": [
       "array([0.06618586, 0.04787434, 0.15914674, ..., 0.07241948, 0.10081735,\n",
       "       0.14634088])"
      ]
     },
     "execution_count": 131,
     "metadata": {},
     "output_type": "execute_result"
    }
   ],
   "source": [
    "pred_stage_2_all"
   ]
  },
  {
   "cell_type": "code",
   "execution_count": 133,
   "id": "bd7f8ff4",
   "metadata": {
    "id": "bd7f8ff4",
    "outputId": "5abb5efd-930c-4ea2-c807-d3213879e7bc"
   },
   "outputs": [
    {
     "name": "stdout",
     "output_type": "stream",
     "text": [
      "8156 8156\n"
     ]
    }
   ],
   "source": [
    "print(len(pred),len(pred_stage_2_all))"
   ]
  },
  {
   "cell_type": "code",
   "execution_count": 135,
   "id": "6e76d999",
   "metadata": {
    "id": "6e76d999"
   },
   "outputs": [],
   "source": [
    "pred_lgd_final = pred * pred_stage_2_all"
   ]
  },
  {
   "cell_type": "code",
   "execution_count": 137,
   "id": "8bb80168",
   "metadata": {
    "id": "8bb80168",
    "outputId": "e417b2f2-1e3a-4a43-a793-69c6b453f8f4"
   },
   "outputs": [
    {
     "data": {
      "text/plain": [
       "array([0.06618586, 0.        , 0.        , ..., 0.07241948, 0.10081735,\n",
       "       0.        ])"
      ]
     },
     "execution_count": 137,
     "metadata": {},
     "output_type": "execute_result"
    }
   ],
   "source": [
    "pred_lgd_final"
   ]
  },
  {
   "cell_type": "code",
   "execution_count": 139,
   "id": "7544f2ad",
   "metadata": {
    "id": "7544f2ad",
    "outputId": "d806a82a-0cde-4121-d5cc-a9a3c5ad08a6"
   },
   "outputs": [
    {
     "data": {
      "text/html": [
       "<div>\n",
       "<style scoped>\n",
       "    .dataframe tbody tr th:only-of-type {\n",
       "        vertical-align: middle;\n",
       "    }\n",
       "\n",
       "    .dataframe tbody tr th {\n",
       "        vertical-align: top;\n",
       "    }\n",
       "\n",
       "    .dataframe thead th {\n",
       "        text-align: right;\n",
       "    }\n",
       "</style>\n",
       "<table border=\"1\" class=\"dataframe\">\n",
       "  <thead>\n",
       "    <tr style=\"text-align: right;\">\n",
       "      <th></th>\n",
       "      <th>0</th>\n",
       "    </tr>\n",
       "  </thead>\n",
       "  <tbody>\n",
       "    <tr>\n",
       "      <th>count</th>\n",
       "      <td>8156.000000</td>\n",
       "    </tr>\n",
       "    <tr>\n",
       "      <th>mean</th>\n",
       "      <td>0.052738</td>\n",
       "    </tr>\n",
       "    <tr>\n",
       "      <th>std</th>\n",
       "      <td>0.056667</td>\n",
       "    </tr>\n",
       "    <tr>\n",
       "      <th>min</th>\n",
       "      <td>0.000000</td>\n",
       "    </tr>\n",
       "    <tr>\n",
       "      <th>25%</th>\n",
       "      <td>0.000000</td>\n",
       "    </tr>\n",
       "    <tr>\n",
       "      <th>50%</th>\n",
       "      <td>0.042000</td>\n",
       "    </tr>\n",
       "    <tr>\n",
       "      <th>75%</th>\n",
       "      <td>0.105420</td>\n",
       "    </tr>\n",
       "    <tr>\n",
       "      <th>max</th>\n",
       "      <td>0.294530</td>\n",
       "    </tr>\n",
       "  </tbody>\n",
       "</table>\n",
       "</div>"
      ],
      "text/plain": [
       "                 0\n",
       "count  8156.000000\n",
       "mean      0.052738\n",
       "std       0.056667\n",
       "min       0.000000\n",
       "25%       0.000000\n",
       "50%       0.042000\n",
       "75%       0.105420\n",
       "max       0.294530"
      ]
     },
     "execution_count": 139,
     "metadata": {},
     "output_type": "execute_result"
    }
   ],
   "source": [
    "pd.DataFrame(pred_lgd_final).describe()"
   ]
  },
  {
   "cell_type": "markdown",
   "id": "50feeea8",
   "metadata": {
    "id": "50feeea8"
   },
   "source": [
    "# EAD MODEL"
   ]
  },
  {
   "cell_type": "code",
   "execution_count": 141,
   "id": "4d988b97",
   "metadata": {
    "id": "4d988b97",
    "outputId": "f1933a09-c09f-4279-ece4-0932f5388204"
   },
   "outputs": [
    {
     "data": {
      "text/plain": [
       "Index(['grade:A', 'grade:B', 'grade:C', 'grade:D', 'grade:E', 'grade:F',\n",
       "       'grade:G', 'home_ownership:RENT_OTHER_NONE_ANY', 'home_ownership:OWN',\n",
       "       'home_ownership:MORTGAGE',\n",
       "       ...\n",
       "       'mths_since_last_record:>=127', 'loan_amnt', 'funded_amnt', 'int_rate',\n",
       "       'installment', 'recoveries', 'total_rec_prncp', 'recovery_rate', 'CCF',\n",
       "       'recovery_rate_0_1'],\n",
       "      dtype='object', length=157)"
      ]
     },
     "execution_count": 141,
     "metadata": {},
     "output_type": "execute_result"
    }
   ],
   "source": [
    "load_data_defaults.columns"
   ]
  },
  {
   "cell_type": "code",
   "execution_count": 143,
   "id": "31bf23a7",
   "metadata": {
    "id": "31bf23a7"
   },
   "outputs": [],
   "source": [
    "ead_inputs_train, ead_inputs_test, ead_targets_train, ead_targets_test = train_test_split(load_data_defaults.drop(['recoveries','recovery_rate','recovery_rate_0_1','CCF'],axis=1),load_data_defaults['CCF'],test_size=0.2,random_state=42) "
   ]
  },
  {
   "cell_type": "code",
   "execution_count": 145,
   "id": "a9434967",
   "metadata": {
    "id": "a9434967"
   },
   "outputs": [],
   "source": [
    "ead_inputs_train =ead_inputs_train.drop(ref_categories,axis=1)"
   ]
  },
  {
   "cell_type": "code",
   "execution_count": 147,
   "id": "767026e5",
   "metadata": {
    "id": "767026e5",
    "outputId": "3f4fa2df-936e-41ed-c06c-6d91d20404d0"
   },
   "outputs": [
    {
     "data": {
      "text/html": [
       "<style>#sk-container-id-3 {\n",
       "  /* Definition of color scheme common for light and dark mode */\n",
       "  --sklearn-color-text: black;\n",
       "  --sklearn-color-line: gray;\n",
       "  /* Definition of color scheme for unfitted estimators */\n",
       "  --sklearn-color-unfitted-level-0: #fff5e6;\n",
       "  --sklearn-color-unfitted-level-1: #f6e4d2;\n",
       "  --sklearn-color-unfitted-level-2: #ffe0b3;\n",
       "  --sklearn-color-unfitted-level-3: chocolate;\n",
       "  /* Definition of color scheme for fitted estimators */\n",
       "  --sklearn-color-fitted-level-0: #f0f8ff;\n",
       "  --sklearn-color-fitted-level-1: #d4ebff;\n",
       "  --sklearn-color-fitted-level-2: #b3dbfd;\n",
       "  --sklearn-color-fitted-level-3: cornflowerblue;\n",
       "\n",
       "  /* Specific color for light theme */\n",
       "  --sklearn-color-text-on-default-background: var(--sg-text-color, var(--theme-code-foreground, var(--jp-content-font-color1, black)));\n",
       "  --sklearn-color-background: var(--sg-background-color, var(--theme-background, var(--jp-layout-color0, white)));\n",
       "  --sklearn-color-border-box: var(--sg-text-color, var(--theme-code-foreground, var(--jp-content-font-color1, black)));\n",
       "  --sklearn-color-icon: #696969;\n",
       "\n",
       "  @media (prefers-color-scheme: dark) {\n",
       "    /* Redefinition of color scheme for dark theme */\n",
       "    --sklearn-color-text-on-default-background: var(--sg-text-color, var(--theme-code-foreground, var(--jp-content-font-color1, white)));\n",
       "    --sklearn-color-background: var(--sg-background-color, var(--theme-background, var(--jp-layout-color0, #111)));\n",
       "    --sklearn-color-border-box: var(--sg-text-color, var(--theme-code-foreground, var(--jp-content-font-color1, white)));\n",
       "    --sklearn-color-icon: #878787;\n",
       "  }\n",
       "}\n",
       "\n",
       "#sk-container-id-3 {\n",
       "  color: var(--sklearn-color-text);\n",
       "}\n",
       "\n",
       "#sk-container-id-3 pre {\n",
       "  padding: 0;\n",
       "}\n",
       "\n",
       "#sk-container-id-3 input.sk-hidden--visually {\n",
       "  border: 0;\n",
       "  clip: rect(1px 1px 1px 1px);\n",
       "  clip: rect(1px, 1px, 1px, 1px);\n",
       "  height: 1px;\n",
       "  margin: -1px;\n",
       "  overflow: hidden;\n",
       "  padding: 0;\n",
       "  position: absolute;\n",
       "  width: 1px;\n",
       "}\n",
       "\n",
       "#sk-container-id-3 div.sk-dashed-wrapped {\n",
       "  border: 1px dashed var(--sklearn-color-line);\n",
       "  margin: 0 0.4em 0.5em 0.4em;\n",
       "  box-sizing: border-box;\n",
       "  padding-bottom: 0.4em;\n",
       "  background-color: var(--sklearn-color-background);\n",
       "}\n",
       "\n",
       "#sk-container-id-3 div.sk-container {\n",
       "  /* jupyter's `normalize.less` sets `[hidden] { display: none; }`\n",
       "     but bootstrap.min.css set `[hidden] { display: none !important; }`\n",
       "     so we also need the `!important` here to be able to override the\n",
       "     default hidden behavior on the sphinx rendered scikit-learn.org.\n",
       "     See: https://github.com/scikit-learn/scikit-learn/issues/21755 */\n",
       "  display: inline-block !important;\n",
       "  position: relative;\n",
       "}\n",
       "\n",
       "#sk-container-id-3 div.sk-text-repr-fallback {\n",
       "  display: none;\n",
       "}\n",
       "\n",
       "div.sk-parallel-item,\n",
       "div.sk-serial,\n",
       "div.sk-item {\n",
       "  /* draw centered vertical line to link estimators */\n",
       "  background-image: linear-gradient(var(--sklearn-color-text-on-default-background), var(--sklearn-color-text-on-default-background));\n",
       "  background-size: 2px 100%;\n",
       "  background-repeat: no-repeat;\n",
       "  background-position: center center;\n",
       "}\n",
       "\n",
       "/* Parallel-specific style estimator block */\n",
       "\n",
       "#sk-container-id-3 div.sk-parallel-item::after {\n",
       "  content: \"\";\n",
       "  width: 100%;\n",
       "  border-bottom: 2px solid var(--sklearn-color-text-on-default-background);\n",
       "  flex-grow: 1;\n",
       "}\n",
       "\n",
       "#sk-container-id-3 div.sk-parallel {\n",
       "  display: flex;\n",
       "  align-items: stretch;\n",
       "  justify-content: center;\n",
       "  background-color: var(--sklearn-color-background);\n",
       "  position: relative;\n",
       "}\n",
       "\n",
       "#sk-container-id-3 div.sk-parallel-item {\n",
       "  display: flex;\n",
       "  flex-direction: column;\n",
       "}\n",
       "\n",
       "#sk-container-id-3 div.sk-parallel-item:first-child::after {\n",
       "  align-self: flex-end;\n",
       "  width: 50%;\n",
       "}\n",
       "\n",
       "#sk-container-id-3 div.sk-parallel-item:last-child::after {\n",
       "  align-self: flex-start;\n",
       "  width: 50%;\n",
       "}\n",
       "\n",
       "#sk-container-id-3 div.sk-parallel-item:only-child::after {\n",
       "  width: 0;\n",
       "}\n",
       "\n",
       "/* Serial-specific style estimator block */\n",
       "\n",
       "#sk-container-id-3 div.sk-serial {\n",
       "  display: flex;\n",
       "  flex-direction: column;\n",
       "  align-items: center;\n",
       "  background-color: var(--sklearn-color-background);\n",
       "  padding-right: 1em;\n",
       "  padding-left: 1em;\n",
       "}\n",
       "\n",
       "\n",
       "/* Toggleable style: style used for estimator/Pipeline/ColumnTransformer box that is\n",
       "clickable and can be expanded/collapsed.\n",
       "- Pipeline and ColumnTransformer use this feature and define the default style\n",
       "- Estimators will overwrite some part of the style using the `sk-estimator` class\n",
       "*/\n",
       "\n",
       "/* Pipeline and ColumnTransformer style (default) */\n",
       "\n",
       "#sk-container-id-3 div.sk-toggleable {\n",
       "  /* Default theme specific background. It is overwritten whether we have a\n",
       "  specific estimator or a Pipeline/ColumnTransformer */\n",
       "  background-color: var(--sklearn-color-background);\n",
       "}\n",
       "\n",
       "/* Toggleable label */\n",
       "#sk-container-id-3 label.sk-toggleable__label {\n",
       "  cursor: pointer;\n",
       "  display: block;\n",
       "  width: 100%;\n",
       "  margin-bottom: 0;\n",
       "  padding: 0.5em;\n",
       "  box-sizing: border-box;\n",
       "  text-align: center;\n",
       "}\n",
       "\n",
       "#sk-container-id-3 label.sk-toggleable__label-arrow:before {\n",
       "  /* Arrow on the left of the label */\n",
       "  content: \"▸\";\n",
       "  float: left;\n",
       "  margin-right: 0.25em;\n",
       "  color: var(--sklearn-color-icon);\n",
       "}\n",
       "\n",
       "#sk-container-id-3 label.sk-toggleable__label-arrow:hover:before {\n",
       "  color: var(--sklearn-color-text);\n",
       "}\n",
       "\n",
       "/* Toggleable content - dropdown */\n",
       "\n",
       "#sk-container-id-3 div.sk-toggleable__content {\n",
       "  max-height: 0;\n",
       "  max-width: 0;\n",
       "  overflow: hidden;\n",
       "  text-align: left;\n",
       "  /* unfitted */\n",
       "  background-color: var(--sklearn-color-unfitted-level-0);\n",
       "}\n",
       "\n",
       "#sk-container-id-3 div.sk-toggleable__content.fitted {\n",
       "  /* fitted */\n",
       "  background-color: var(--sklearn-color-fitted-level-0);\n",
       "}\n",
       "\n",
       "#sk-container-id-3 div.sk-toggleable__content pre {\n",
       "  margin: 0.2em;\n",
       "  border-radius: 0.25em;\n",
       "  color: var(--sklearn-color-text);\n",
       "  /* unfitted */\n",
       "  background-color: var(--sklearn-color-unfitted-level-0);\n",
       "}\n",
       "\n",
       "#sk-container-id-3 div.sk-toggleable__content.fitted pre {\n",
       "  /* unfitted */\n",
       "  background-color: var(--sklearn-color-fitted-level-0);\n",
       "}\n",
       "\n",
       "#sk-container-id-3 input.sk-toggleable__control:checked~div.sk-toggleable__content {\n",
       "  /* Expand drop-down */\n",
       "  max-height: 200px;\n",
       "  max-width: 100%;\n",
       "  overflow: auto;\n",
       "}\n",
       "\n",
       "#sk-container-id-3 input.sk-toggleable__control:checked~label.sk-toggleable__label-arrow:before {\n",
       "  content: \"▾\";\n",
       "}\n",
       "\n",
       "/* Pipeline/ColumnTransformer-specific style */\n",
       "\n",
       "#sk-container-id-3 div.sk-label input.sk-toggleable__control:checked~label.sk-toggleable__label {\n",
       "  color: var(--sklearn-color-text);\n",
       "  background-color: var(--sklearn-color-unfitted-level-2);\n",
       "}\n",
       "\n",
       "#sk-container-id-3 div.sk-label.fitted input.sk-toggleable__control:checked~label.sk-toggleable__label {\n",
       "  background-color: var(--sklearn-color-fitted-level-2);\n",
       "}\n",
       "\n",
       "/* Estimator-specific style */\n",
       "\n",
       "/* Colorize estimator box */\n",
       "#sk-container-id-3 div.sk-estimator input.sk-toggleable__control:checked~label.sk-toggleable__label {\n",
       "  /* unfitted */\n",
       "  background-color: var(--sklearn-color-unfitted-level-2);\n",
       "}\n",
       "\n",
       "#sk-container-id-3 div.sk-estimator.fitted input.sk-toggleable__control:checked~label.sk-toggleable__label {\n",
       "  /* fitted */\n",
       "  background-color: var(--sklearn-color-fitted-level-2);\n",
       "}\n",
       "\n",
       "#sk-container-id-3 div.sk-label label.sk-toggleable__label,\n",
       "#sk-container-id-3 div.sk-label label {\n",
       "  /* The background is the default theme color */\n",
       "  color: var(--sklearn-color-text-on-default-background);\n",
       "}\n",
       "\n",
       "/* On hover, darken the color of the background */\n",
       "#sk-container-id-3 div.sk-label:hover label.sk-toggleable__label {\n",
       "  color: var(--sklearn-color-text);\n",
       "  background-color: var(--sklearn-color-unfitted-level-2);\n",
       "}\n",
       "\n",
       "/* Label box, darken color on hover, fitted */\n",
       "#sk-container-id-3 div.sk-label.fitted:hover label.sk-toggleable__label.fitted {\n",
       "  color: var(--sklearn-color-text);\n",
       "  background-color: var(--sklearn-color-fitted-level-2);\n",
       "}\n",
       "\n",
       "/* Estimator label */\n",
       "\n",
       "#sk-container-id-3 div.sk-label label {\n",
       "  font-family: monospace;\n",
       "  font-weight: bold;\n",
       "  display: inline-block;\n",
       "  line-height: 1.2em;\n",
       "}\n",
       "\n",
       "#sk-container-id-3 div.sk-label-container {\n",
       "  text-align: center;\n",
       "}\n",
       "\n",
       "/* Estimator-specific */\n",
       "#sk-container-id-3 div.sk-estimator {\n",
       "  font-family: monospace;\n",
       "  border: 1px dotted var(--sklearn-color-border-box);\n",
       "  border-radius: 0.25em;\n",
       "  box-sizing: border-box;\n",
       "  margin-bottom: 0.5em;\n",
       "  /* unfitted */\n",
       "  background-color: var(--sklearn-color-unfitted-level-0);\n",
       "}\n",
       "\n",
       "#sk-container-id-3 div.sk-estimator.fitted {\n",
       "  /* fitted */\n",
       "  background-color: var(--sklearn-color-fitted-level-0);\n",
       "}\n",
       "\n",
       "/* on hover */\n",
       "#sk-container-id-3 div.sk-estimator:hover {\n",
       "  /* unfitted */\n",
       "  background-color: var(--sklearn-color-unfitted-level-2);\n",
       "}\n",
       "\n",
       "#sk-container-id-3 div.sk-estimator.fitted:hover {\n",
       "  /* fitted */\n",
       "  background-color: var(--sklearn-color-fitted-level-2);\n",
       "}\n",
       "\n",
       "/* Specification for estimator info (e.g. \"i\" and \"?\") */\n",
       "\n",
       "/* Common style for \"i\" and \"?\" */\n",
       "\n",
       ".sk-estimator-doc-link,\n",
       "a:link.sk-estimator-doc-link,\n",
       "a:visited.sk-estimator-doc-link {\n",
       "  float: right;\n",
       "  font-size: smaller;\n",
       "  line-height: 1em;\n",
       "  font-family: monospace;\n",
       "  background-color: var(--sklearn-color-background);\n",
       "  border-radius: 1em;\n",
       "  height: 1em;\n",
       "  width: 1em;\n",
       "  text-decoration: none !important;\n",
       "  margin-left: 1ex;\n",
       "  /* unfitted */\n",
       "  border: var(--sklearn-color-unfitted-level-1) 1pt solid;\n",
       "  color: var(--sklearn-color-unfitted-level-1);\n",
       "}\n",
       "\n",
       ".sk-estimator-doc-link.fitted,\n",
       "a:link.sk-estimator-doc-link.fitted,\n",
       "a:visited.sk-estimator-doc-link.fitted {\n",
       "  /* fitted */\n",
       "  border: var(--sklearn-color-fitted-level-1) 1pt solid;\n",
       "  color: var(--sklearn-color-fitted-level-1);\n",
       "}\n",
       "\n",
       "/* On hover */\n",
       "div.sk-estimator:hover .sk-estimator-doc-link:hover,\n",
       ".sk-estimator-doc-link:hover,\n",
       "div.sk-label-container:hover .sk-estimator-doc-link:hover,\n",
       ".sk-estimator-doc-link:hover {\n",
       "  /* unfitted */\n",
       "  background-color: var(--sklearn-color-unfitted-level-3);\n",
       "  color: var(--sklearn-color-background);\n",
       "  text-decoration: none;\n",
       "}\n",
       "\n",
       "div.sk-estimator.fitted:hover .sk-estimator-doc-link.fitted:hover,\n",
       ".sk-estimator-doc-link.fitted:hover,\n",
       "div.sk-label-container:hover .sk-estimator-doc-link.fitted:hover,\n",
       ".sk-estimator-doc-link.fitted:hover {\n",
       "  /* fitted */\n",
       "  background-color: var(--sklearn-color-fitted-level-3);\n",
       "  color: var(--sklearn-color-background);\n",
       "  text-decoration: none;\n",
       "}\n",
       "\n",
       "/* Span, style for the box shown on hovering the info icon */\n",
       ".sk-estimator-doc-link span {\n",
       "  display: none;\n",
       "  z-index: 9999;\n",
       "  position: relative;\n",
       "  font-weight: normal;\n",
       "  right: .2ex;\n",
       "  padding: .5ex;\n",
       "  margin: .5ex;\n",
       "  width: min-content;\n",
       "  min-width: 20ex;\n",
       "  max-width: 50ex;\n",
       "  color: var(--sklearn-color-text);\n",
       "  box-shadow: 2pt 2pt 4pt #999;\n",
       "  /* unfitted */\n",
       "  background: var(--sklearn-color-unfitted-level-0);\n",
       "  border: .5pt solid var(--sklearn-color-unfitted-level-3);\n",
       "}\n",
       "\n",
       ".sk-estimator-doc-link.fitted span {\n",
       "  /* fitted */\n",
       "  background: var(--sklearn-color-fitted-level-0);\n",
       "  border: var(--sklearn-color-fitted-level-3);\n",
       "}\n",
       "\n",
       ".sk-estimator-doc-link:hover span {\n",
       "  display: block;\n",
       "}\n",
       "\n",
       "/* \"?\"-specific style due to the `<a>` HTML tag */\n",
       "\n",
       "#sk-container-id-3 a.estimator_doc_link {\n",
       "  float: right;\n",
       "  font-size: 1rem;\n",
       "  line-height: 1em;\n",
       "  font-family: monospace;\n",
       "  background-color: var(--sklearn-color-background);\n",
       "  border-radius: 1rem;\n",
       "  height: 1rem;\n",
       "  width: 1rem;\n",
       "  text-decoration: none;\n",
       "  /* unfitted */\n",
       "  color: var(--sklearn-color-unfitted-level-1);\n",
       "  border: var(--sklearn-color-unfitted-level-1) 1pt solid;\n",
       "}\n",
       "\n",
       "#sk-container-id-3 a.estimator_doc_link.fitted {\n",
       "  /* fitted */\n",
       "  border: var(--sklearn-color-fitted-level-1) 1pt solid;\n",
       "  color: var(--sklearn-color-fitted-level-1);\n",
       "}\n",
       "\n",
       "/* On hover */\n",
       "#sk-container-id-3 a.estimator_doc_link:hover {\n",
       "  /* unfitted */\n",
       "  background-color: var(--sklearn-color-unfitted-level-3);\n",
       "  color: var(--sklearn-color-background);\n",
       "  text-decoration: none;\n",
       "}\n",
       "\n",
       "#sk-container-id-3 a.estimator_doc_link.fitted:hover {\n",
       "  /* fitted */\n",
       "  background-color: var(--sklearn-color-fitted-level-3);\n",
       "}\n",
       "</style><div id=\"sk-container-id-3\" class=\"sk-top-container\"><div class=\"sk-text-repr-fallback\"><pre>LinearRegression()</pre><b>In a Jupyter environment, please rerun this cell to show the HTML representation or trust the notebook. <br />On GitHub, the HTML representation is unable to render, please try loading this page with nbviewer.org.</b></div><div class=\"sk-container\" hidden><div class=\"sk-item\"><div class=\"sk-estimator fitted sk-toggleable\"><input class=\"sk-toggleable__control sk-hidden--visually\" id=\"sk-estimator-id-3\" type=\"checkbox\" checked><label for=\"sk-estimator-id-3\" class=\"sk-toggleable__label fitted sk-toggleable__label-arrow fitted\">&nbsp;&nbsp;LinearRegression<a class=\"sk-estimator-doc-link fitted\" rel=\"noreferrer\" target=\"_blank\" href=\"https://scikit-learn.org/1.4/modules/generated/sklearn.linear_model.LinearRegression.html\">?<span>Documentation for LinearRegression</span></a><span class=\"sk-estimator-doc-link fitted\">i<span>Fitted</span></span></label><div class=\"sk-toggleable__content fitted\"><pre>LinearRegression()</pre></div> </div></div></div></div>"
      ],
      "text/plain": [
       "LinearRegression()"
      ]
     },
     "execution_count": 147,
     "metadata": {},
     "output_type": "execute_result"
    }
   ],
   "source": [
    "reg_ead =LinearRegression()\n",
    "reg_ead.fit(ead_inputs_train,ead_targets_train)\n"
   ]
  },
  {
   "cell_type": "code",
   "execution_count": 149,
   "id": "6a49000d",
   "metadata": {
    "id": "6a49000d"
   },
   "outputs": [],
   "source": [
    "ead_inputs_test = ead_inputs_test.drop(ref_categories,axis=1)"
   ]
  },
  {
   "cell_type": "code",
   "execution_count": 151,
   "id": "d42c0adb",
   "metadata": {
    "id": "d42c0adb"
   },
   "outputs": [],
   "source": [
    "y_pred_test_ead =reg_ead.predict(ead_inputs_test)"
   ]
  },
  {
   "cell_type": "code",
   "execution_count": 153,
   "id": "d55201f0",
   "metadata": {
    "id": "d55201f0",
    "outputId": "36d3f7a1-6b11-439b-d2cb-abc41ddbf88c"
   },
   "outputs": [
    {
     "data": {
      "text/plain": [
       "array([0.55958399, 0.37705677, 0.90225855, ..., 0.66296642, 0.89692882,\n",
       "       0.89477416])"
      ]
     },
     "execution_count": 153,
     "metadata": {},
     "output_type": "execute_result"
    }
   ],
   "source": [
    "y_pred_test_ead"
   ]
  },
  {
   "cell_type": "code",
   "execution_count": 155,
   "id": "8932d0a5",
   "metadata": {
    "id": "8932d0a5",
    "outputId": "8a0feeba-4a0f-4869-f898-83ea67f45f13"
   },
   "outputs": [
    {
     "data": {
      "text/plain": [
       "<Axes: xlabel='CCF', ylabel='Density'>"
      ]
     },
     "execution_count": 155,
     "metadata": {},
     "output_type": "execute_result"
    },
    {
     "data": {
      "image/png": "[encoded data removed]",
      "text/plain": [
       "<Figure size 640x480 with 1 Axes>"
      ]
     },
     "metadata": {},
     "output_type": "display_data"
    }
   ],
   "source": [
    "sns.distplot(ead_targets_test-y_pred_test_ead)"
   ]
  },
  {
   "cell_type": "code",
   "execution_count": 157,
   "id": "33ec4798",
   "metadata": {
    "id": "33ec4798",
    "outputId": "0fb584d3-b92d-4ecc-bb74-aaab01af6975"
   },
   "outputs": [
    {
     "data": {
      "text/html": [
       "<div>\n",
       "<style scoped>\n",
       "    .dataframe tbody tr th:only-of-type {\n",
       "        vertical-align: middle;\n",
       "    }\n",
       "\n",
       "    .dataframe tbody tr th {\n",
       "        vertical-align: top;\n",
       "    }\n",
       "\n",
       "    .dataframe thead th {\n",
       "        text-align: right;\n",
       "    }\n",
       "</style>\n",
       "<table border=\"1\" class=\"dataframe\">\n",
       "  <thead>\n",
       "    <tr style=\"text-align: right;\">\n",
       "      <th></th>\n",
       "      <th>0</th>\n",
       "    </tr>\n",
       "  </thead>\n",
       "  <tbody>\n",
       "    <tr>\n",
       "      <th>count</th>\n",
       "      <td>8156.000000</td>\n",
       "    </tr>\n",
       "    <tr>\n",
       "      <th>mean</th>\n",
       "      <td>0.720407</td>\n",
       "    </tr>\n",
       "    <tr>\n",
       "      <th>std</th>\n",
       "      <td>0.174406</td>\n",
       "    </tr>\n",
       "    <tr>\n",
       "      <th>min</th>\n",
       "      <td>-0.602701</td>\n",
       "    </tr>\n",
       "    <tr>\n",
       "      <th>25%</th>\n",
       "      <td>0.634794</td>\n",
       "    </tr>\n",
       "    <tr>\n",
       "      <th>50%</th>\n",
       "      <td>0.731027</td>\n",
       "    </tr>\n",
       "    <tr>\n",
       "      <th>75%</th>\n",
       "      <td>0.832212</td>\n",
       "    </tr>\n",
       "    <tr>\n",
       "      <th>max</th>\n",
       "      <td>1.286389</td>\n",
       "    </tr>\n",
       "  </tbody>\n",
       "</table>\n",
       "</div>"
      ],
      "text/plain": [
       "                 0\n",
       "count  8156.000000\n",
       "mean      0.720407\n",
       "std       0.174406\n",
       "min      -0.602701\n",
       "25%       0.634794\n",
       "50%       0.731027\n",
       "75%       0.832212\n",
       "max       1.286389"
      ]
     },
     "execution_count": 157,
     "metadata": {},
     "output_type": "execute_result"
    }
   ],
   "source": [
    "pd.DataFrame(y_pred_test_ead).describe()"
   ]
  },
  {
   "cell_type": "markdown",
   "id": "M0HRodUPKXT2",
   "metadata": {
    "id": "M0HRodUPKXT2"
   },
   "source": [
    "We see that some values are negitive and this predicted value is of CCF...so it can't be negitive"
   ]
  },
  {
   "cell_type": "code",
   "execution_count": 159,
   "id": "43d3d0d2",
   "metadata": {
    "id": "43d3d0d2"
   },
   "outputs": [],
   "source": [
    "y_pred_test_ead = np.where(y_pred_test_ead < 0,0,y_pred_test_ead)\n",
    "y_pred_test_ead = np.where(y_pred_test_ead > 1,1,y_pred_test_ead)"
   ]
  },
  {
   "cell_type": "code",
   "execution_count": 161,
   "id": "ae19a353",
   "metadata": {
    "id": "ae19a353"
   },
   "outputs": [],
   "source": [
    "pickle.dump(reg_ead,open('ead_model.sav','wb'))"
   ]
  },
  {
   "cell_type": "code",
   "execution_count": 163,
   "id": "22d7e0e7",
   "metadata": {
    "id": "22d7e0e7",
    "outputId": "604ffe8d-74c5-4f8e-d4a6-698755ca5f5e"
   },
   "outputs": [
    {
     "data": {
      "text/html": [
       "<div>\n",
       "<style scoped>\n",
       "    .dataframe tbody tr th:only-of-type {\n",
       "        vertical-align: middle;\n",
       "    }\n",
       "\n",
       "    .dataframe tbody tr th {\n",
       "        vertical-align: top;\n",
       "    }\n",
       "\n",
       "    .dataframe thead th {\n",
       "        text-align: right;\n",
       "    }\n",
       "</style>\n",
       "<table border=\"1\" class=\"dataframe\">\n",
       "  <thead>\n",
       "    <tr style=\"text-align: right;\">\n",
       "      <th></th>\n",
       "      <th>0</th>\n",
       "    </tr>\n",
       "  </thead>\n",
       "  <tbody>\n",
       "    <tr>\n",
       "      <th>count</th>\n",
       "      <td>8156.000000</td>\n",
       "    </tr>\n",
       "    <tr>\n",
       "      <th>mean</th>\n",
       "      <td>0.719043</td>\n",
       "    </tr>\n",
       "    <tr>\n",
       "      <th>std</th>\n",
       "      <td>0.166765</td>\n",
       "    </tr>\n",
       "    <tr>\n",
       "      <th>min</th>\n",
       "      <td>0.000000</td>\n",
       "    </tr>\n",
       "    <tr>\n",
       "      <th>25%</th>\n",
       "      <td>0.634794</td>\n",
       "    </tr>\n",
       "    <tr>\n",
       "      <th>50%</th>\n",
       "      <td>0.731027</td>\n",
       "    </tr>\n",
       "    <tr>\n",
       "      <th>75%</th>\n",
       "      <td>0.832212</td>\n",
       "    </tr>\n",
       "    <tr>\n",
       "      <th>max</th>\n",
       "      <td>1.000000</td>\n",
       "    </tr>\n",
       "  </tbody>\n",
       "</table>\n",
       "</div>"
      ],
      "text/plain": [
       "                 0\n",
       "count  8156.000000\n",
       "mean      0.719043\n",
       "std       0.166765\n",
       "min       0.000000\n",
       "25%       0.634794\n",
       "50%       0.731027\n",
       "75%       0.832212\n",
       "max       1.000000"
      ]
     },
     "execution_count": 163,
     "metadata": {},
     "output_type": "execute_result"
    }
   ],
   "source": [
    "pd.DataFrame(y_pred_test_ead).describe()"
   ]
  },
  {
   "cell_type": "markdown",
   "id": "ad274483",
   "metadata": {
    "id": "ad274483"
   },
   "source": [
    "# Calculating EL:"
   ]
  },
  {
   "cell_type": "markdown",
   "id": "yjfQev9TK2RQ",
   "metadata": {
    "id": "yjfQev9TK2RQ"
   },
   "source": [
    "### Expected Loss = PD * LGD * EAD"
   ]
  },
  {
   "cell_type": "code",
   "execution_count": 165,
   "id": "db6169a9",
   "metadata": {
    "id": "db6169a9",
    "outputId": "1f1d9ca4-532b-4e45-a109-03af861ded83"
   },
   "outputs": [
    {
     "data": {
      "text/plain": [
       "(8156, 131)"
      ]
     },
     "execution_count": 165,
     "metadata": {},
     "output_type": "execute_result"
    }
   ],
   "source": [
    "lgd_input_test.shape"
   ]
  },
  {
   "cell_type": "code",
   "execution_count": 167,
   "id": "50c6418a",
   "metadata": {
    "id": "50c6418a",
    "outputId": "c119f469-307a-4142-e27c-26f5ed0a3bde"
   },
   "outputs": [
    {
     "data": {
      "text/plain": [
       "(8156,)"
      ]
     },
     "execution_count": 167,
     "metadata": {},
     "output_type": "execute_result"
    }
   ],
   "source": [
    "lgd_target_test.shape"
   ]
  },
  {
   "cell_type": "code",
   "execution_count": 169,
   "id": "d36d1077",
   "metadata": {
    "id": "d36d1077"
   },
   "outputs": [],
   "source": [
    "testing_sample = lgd_input_test"
   ]
  },
  {
   "cell_type": "code",
   "execution_count": 171,
   "id": "2e3671ed",
   "metadata": {
    "id": "2e3671ed",
    "outputId": "86a022fe-3b44-4129-c845-174ad526962f"
   },
   "outputs": [
    {
     "data": {
      "text/plain": [
       "(8156, 131)"
      ]
     },
     "execution_count": 171,
     "metadata": {},
     "output_type": "execute_result"
    }
   ],
   "source": [
    "testing_sample.shape"
   ]
  },
  {
   "cell_type": "code",
   "execution_count": 173,
   "id": "c864e211",
   "metadata": {
    "id": "c864e211"
   },
   "outputs": [],
   "source": [
    "testing_outcome = pd.DataFrame()"
   ]
  },
  {
   "cell_type": "code",
   "execution_count": 175,
   "id": "2d89dcb2",
   "metadata": {
    "id": "2d89dcb2"
   },
   "outputs": [],
   "source": [
    "testing_outcome['recovery_rate_stage_1'] = reg.predict(testing_sample)\n",
    "testing_outcome['recovery_rate_stage_2'] = lin_reg.predict(testing_sample)"
   ]
  },
  {
   "cell_type": "code",
   "execution_count": 177,
   "id": "2424425a",
   "metadata": {
    "id": "2424425a"
   },
   "outputs": [],
   "source": [
    "testing_outcome['recovery_rate'] = testing_outcome['recovery_rate_stage_1'] * testing_outcome['recovery_rate_stage_2'] "
   ]
  },
  {
   "cell_type": "code",
   "execution_count": 179,
   "id": "3a325855",
   "metadata": {
    "id": "3a325855",
    "outputId": "259fcb8c-9f5e-4320-fab7-1149cefd492f"
   },
   "outputs": [
    {
     "data": {
      "text/html": [
       "<div>\n",
       "<style scoped>\n",
       "    .dataframe tbody tr th:only-of-type {\n",
       "        vertical-align: middle;\n",
       "    }\n",
       "\n",
       "    .dataframe tbody tr th {\n",
       "        vertical-align: top;\n",
       "    }\n",
       "\n",
       "    .dataframe thead th {\n",
       "        text-align: right;\n",
       "    }\n",
       "</style>\n",
       "<table border=\"1\" class=\"dataframe\">\n",
       "  <thead>\n",
       "    <tr style=\"text-align: right;\">\n",
       "      <th></th>\n",
       "      <th>recovery_rate_stage_1</th>\n",
       "      <th>recovery_rate_stage_2</th>\n",
       "      <th>recovery_rate</th>\n",
       "    </tr>\n",
       "  </thead>\n",
       "  <tbody>\n",
       "    <tr>\n",
       "      <th>0</th>\n",
       "      <td>1</td>\n",
       "      <td>0.066186</td>\n",
       "      <td>0.066186</td>\n",
       "    </tr>\n",
       "    <tr>\n",
       "      <th>1</th>\n",
       "      <td>0</td>\n",
       "      <td>0.047874</td>\n",
       "      <td>0.000000</td>\n",
       "    </tr>\n",
       "    <tr>\n",
       "      <th>2</th>\n",
       "      <td>0</td>\n",
       "      <td>0.159147</td>\n",
       "      <td>0.000000</td>\n",
       "    </tr>\n",
       "    <tr>\n",
       "      <th>3</th>\n",
       "      <td>1</td>\n",
       "      <td>0.057790</td>\n",
       "      <td>0.057790</td>\n",
       "    </tr>\n",
       "    <tr>\n",
       "      <th>4</th>\n",
       "      <td>0</td>\n",
       "      <td>0.094851</td>\n",
       "      <td>0.000000</td>\n",
       "    </tr>\n",
       "  </tbody>\n",
       "</table>\n",
       "</div>"
      ],
      "text/plain": [
       "   recovery_rate_stage_1  recovery_rate_stage_2  recovery_rate\n",
       "0                      1               0.066186       0.066186\n",
       "1                      0               0.047874       0.000000\n",
       "2                      0               0.159147       0.000000\n",
       "3                      1               0.057790       0.057790\n",
       "4                      0               0.094851       0.000000"
      ]
     },
     "execution_count": 179,
     "metadata": {},
     "output_type": "execute_result"
    }
   ],
   "source": [
    "testing_outcome.head()"
   ]
  },
  {
   "cell_type": "code",
   "execution_count": 181,
   "id": "7e6d622c",
   "metadata": {
    "id": "7e6d622c"
   },
   "outputs": [],
   "source": [
    "testing_outcome['recovery_rate'] =np.where(testing_outcome['recovery_rate'] < 0,0,testing_outcome['recovery_rate'])\n",
    "testing_outcome['recovery_rate'] = np.where(testing_outcome['recovery_rate'] > 1,1,testing_outcome['recovery_rate'])"
   ]
  },
  {
   "cell_type": "code",
   "execution_count": 183,
   "id": "92e71838",
   "metadata": {
    "id": "92e71838",
    "outputId": "2cff4950-9bbf-4252-cd63-5e8f4fe9c9fa"
   },
   "outputs": [
    {
     "data": {
      "text/html": [
       "<div>\n",
       "<style scoped>\n",
       "    .dataframe tbody tr th:only-of-type {\n",
       "        vertical-align: middle;\n",
       "    }\n",
       "\n",
       "    .dataframe tbody tr th {\n",
       "        vertical-align: top;\n",
       "    }\n",
       "\n",
       "    .dataframe thead th {\n",
       "        text-align: right;\n",
       "    }\n",
       "</style>\n",
       "<table border=\"1\" class=\"dataframe\">\n",
       "  <thead>\n",
       "    <tr style=\"text-align: right;\">\n",
       "      <th></th>\n",
       "      <th>recovery_rate_stage_1</th>\n",
       "      <th>recovery_rate_stage_2</th>\n",
       "      <th>recovery_rate</th>\n",
       "      <th>LGD</th>\n",
       "    </tr>\n",
       "  </thead>\n",
       "  <tbody>\n",
       "    <tr>\n",
       "      <th>0</th>\n",
       "      <td>1</td>\n",
       "      <td>0.066186</td>\n",
       "      <td>0.066186</td>\n",
       "      <td>0.933814</td>\n",
       "    </tr>\n",
       "    <tr>\n",
       "      <th>1</th>\n",
       "      <td>0</td>\n",
       "      <td>0.047874</td>\n",
       "      <td>0.000000</td>\n",
       "      <td>1.000000</td>\n",
       "    </tr>\n",
       "    <tr>\n",
       "      <th>2</th>\n",
       "      <td>0</td>\n",
       "      <td>0.159147</td>\n",
       "      <td>0.000000</td>\n",
       "      <td>1.000000</td>\n",
       "    </tr>\n",
       "    <tr>\n",
       "      <th>3</th>\n",
       "      <td>1</td>\n",
       "      <td>0.057790</td>\n",
       "      <td>0.057790</td>\n",
       "      <td>0.942210</td>\n",
       "    </tr>\n",
       "    <tr>\n",
       "      <th>4</th>\n",
       "      <td>0</td>\n",
       "      <td>0.094851</td>\n",
       "      <td>0.000000</td>\n",
       "      <td>1.000000</td>\n",
       "    </tr>\n",
       "  </tbody>\n",
       "</table>\n",
       "</div>"
      ],
      "text/plain": [
       "   recovery_rate_stage_1  recovery_rate_stage_2  recovery_rate       LGD\n",
       "0                      1               0.066186       0.066186  0.933814\n",
       "1                      0               0.047874       0.000000  1.000000\n",
       "2                      0               0.159147       0.000000  1.000000\n",
       "3                      1               0.057790       0.057790  0.942210\n",
       "4                      0               0.094851       0.000000  1.000000"
      ]
     },
     "execution_count": 183,
     "metadata": {},
     "output_type": "execute_result"
    }
   ],
   "source": [
    "testing_outcome['LGD'] = 1-testing_outcome['recovery_rate']\n",
    "testing_outcome.head()"
   ]
  },
  {
   "cell_type": "code",
   "execution_count": 185,
   "id": "f0319147",
   "metadata": {
    "id": "f0319147",
    "outputId": "67ea39e1-adf0-4980-e210-caacba98a5c9"
   },
   "outputs": [
    {
     "data": {
      "text/plain": [
       "count    8156.000000\n",
       "mean        0.947262\n",
       "std         0.056667\n",
       "min         0.705470\n",
       "25%         0.894580\n",
       "50%         0.958000\n",
       "75%         1.000000\n",
       "max         1.000000\n",
       "Name: LGD, dtype: float64"
      ]
     },
     "execution_count": 185,
     "metadata": {},
     "output_type": "execute_result"
    }
   ],
   "source": [
    "testing_outcome['LGD'].describe()"
   ]
  },
  {
   "cell_type": "code",
   "execution_count": 187,
   "id": "7b6171b3",
   "metadata": {
    "id": "7b6171b3"
   },
   "outputs": [],
   "source": [
    "testing_outcome['CCF'] = reg_ead.predict(testing_sample)"
   ]
  },
  {
   "cell_type": "code",
   "execution_count": 189,
   "id": "d19056ff",
   "metadata": {
    "id": "d19056ff",
    "outputId": "5965eb65-dbb3-4fc3-d573-1c6a9d480074"
   },
   "outputs": [
    {
     "data": {
      "text/plain": [
       "count    8156.000000\n",
       "mean        0.720407\n",
       "std         0.174406\n",
       "min        -0.602701\n",
       "25%         0.634794\n",
       "50%         0.731027\n",
       "75%         0.832212\n",
       "max         1.286389\n",
       "Name: CCF, dtype: float64"
      ]
     },
     "execution_count": 189,
     "metadata": {},
     "output_type": "execute_result"
    }
   ],
   "source": [
    "testing_outcome['CCF'].describe()"
   ]
  },
  {
   "cell_type": "code",
   "execution_count": 191,
   "id": "4dcffce6",
   "metadata": {
    "id": "4dcffce6"
   },
   "outputs": [],
   "source": [
    "testing_outcome['CCF'] =np.where(testing_outcome['CCF'] < 0,0,testing_outcome['CCF'])\n",
    "testing_outcome['CCF'] = np.where(testing_outcome['CCF'] > 1,1,testing_outcome['CCF'])"
   ]
  },
  {
   "cell_type": "code",
   "execution_count": 193,
   "id": "b42014dc",
   "metadata": {
    "id": "b42014dc",
    "outputId": "42b7f455-d174-458d-df3e-790714d13d84"
   },
   "outputs": [
    {
     "data": {
      "text/plain": [
       "count    8156.000000\n",
       "mean        0.719043\n",
       "std         0.166765\n",
       "min         0.000000\n",
       "25%         0.634794\n",
       "50%         0.731027\n",
       "75%         0.832212\n",
       "max         1.000000\n",
       "Name: CCF, dtype: float64"
      ]
     },
     "execution_count": 193,
     "metadata": {},
     "output_type": "execute_result"
    }
   ],
   "source": [
    "testing_outcome['CCF'].describe()"
   ]
  },
  {
   "cell_type": "code",
   "execution_count": 195,
   "id": "463e86b8",
   "metadata": {
    "id": "463e86b8",
    "outputId": "ae482b74-b5c4-416a-aaf4-7a65a5ae583e"
   },
   "outputs": [
    {
     "data": {
      "text/plain": [
       "(8156, 5)"
      ]
     },
     "execution_count": 195,
     "metadata": {},
     "output_type": "execute_result"
    }
   ],
   "source": [
    "testing_outcome.shape"
   ]
  },
  {
   "cell_type": "code",
   "execution_count": 197,
   "id": "e35fa424",
   "metadata": {
    "id": "e35fa424",
    "outputId": "a3ec10d6-c81e-40e7-b891-bf5b9f0772d4"
   },
   "outputs": [
    {
     "data": {
      "text/plain": [
       "(8156, 131)"
      ]
     },
     "execution_count": 197,
     "metadata": {},
     "output_type": "execute_result"
    }
   ],
   "source": [
    "testing_sample.shape"
   ]
  },
  {
   "cell_type": "code",
   "execution_count": 199,
   "id": "dcba970c",
   "metadata": {
    "id": "dcba970c"
   },
   "outputs": [],
   "source": [
    "testing_outcome['EAD'] = testing_outcome['CCF'] * testing_sample['funded_amnt'].values"
   ]
  },
  {
   "cell_type": "code",
   "execution_count": 201,
   "id": "84ef9ef3",
   "metadata": {
    "id": "84ef9ef3",
    "outputId": "c09e3c42-f04c-4765-d7e4-05f8da8d75d7"
   },
   "outputs": [
    {
     "data": {
      "text/html": [
       "<div>\n",
       "<style scoped>\n",
       "    .dataframe tbody tr th:only-of-type {\n",
       "        vertical-align: middle;\n",
       "    }\n",
       "\n",
       "    .dataframe tbody tr th {\n",
       "        vertical-align: top;\n",
       "    }\n",
       "\n",
       "    .dataframe thead th {\n",
       "        text-align: right;\n",
       "    }\n",
       "</style>\n",
       "<table border=\"1\" class=\"dataframe\">\n",
       "  <thead>\n",
       "    <tr style=\"text-align: right;\">\n",
       "      <th></th>\n",
       "      <th>recovery_rate_stage_1</th>\n",
       "      <th>recovery_rate_stage_2</th>\n",
       "      <th>recovery_rate</th>\n",
       "      <th>LGD</th>\n",
       "      <th>CCF</th>\n",
       "      <th>EAD</th>\n",
       "    </tr>\n",
       "  </thead>\n",
       "  <tbody>\n",
       "    <tr>\n",
       "      <th>0</th>\n",
       "      <td>1</td>\n",
       "      <td>0.066186</td>\n",
       "      <td>0.066186</td>\n",
       "      <td>0.933814</td>\n",
       "      <td>0.559584</td>\n",
       "      <td>8393.759820</td>\n",
       "    </tr>\n",
       "    <tr>\n",
       "      <th>1</th>\n",
       "      <td>0</td>\n",
       "      <td>0.047874</td>\n",
       "      <td>0.000000</td>\n",
       "      <td>1.000000</td>\n",
       "      <td>0.377057</td>\n",
       "      <td>4524.681272</td>\n",
       "    </tr>\n",
       "    <tr>\n",
       "      <th>2</th>\n",
       "      <td>0</td>\n",
       "      <td>0.159147</td>\n",
       "      <td>0.000000</td>\n",
       "      <td>1.000000</td>\n",
       "      <td>0.902259</td>\n",
       "      <td>15631.629299</td>\n",
       "    </tr>\n",
       "    <tr>\n",
       "      <th>3</th>\n",
       "      <td>1</td>\n",
       "      <td>0.057790</td>\n",
       "      <td>0.057790</td>\n",
       "      <td>0.942210</td>\n",
       "      <td>0.513916</td>\n",
       "      <td>2569.582343</td>\n",
       "    </tr>\n",
       "    <tr>\n",
       "      <th>4</th>\n",
       "      <td>0</td>\n",
       "      <td>0.094851</td>\n",
       "      <td>0.000000</td>\n",
       "      <td>1.000000</td>\n",
       "      <td>0.621515</td>\n",
       "      <td>4739.051819</td>\n",
       "    </tr>\n",
       "  </tbody>\n",
       "</table>\n",
       "</div>"
      ],
      "text/plain": [
       "   recovery_rate_stage_1  recovery_rate_stage_2  recovery_rate       LGD  \\\n",
       "0                      1               0.066186       0.066186  0.933814   \n",
       "1                      0               0.047874       0.000000  1.000000   \n",
       "2                      0               0.159147       0.000000  1.000000   \n",
       "3                      1               0.057790       0.057790  0.942210   \n",
       "4                      0               0.094851       0.000000  1.000000   \n",
       "\n",
       "        CCF           EAD  \n",
       "0  0.559584   8393.759820  \n",
       "1  0.377057   4524.681272  \n",
       "2  0.902259  15631.629299  \n",
       "3  0.513916   2569.582343  \n",
       "4  0.621515   4739.051819  "
      ]
     },
     "execution_count": 201,
     "metadata": {},
     "output_type": "execute_result"
    }
   ],
   "source": [
    "testing_outcome.head()"
   ]
  },
  {
   "cell_type": "code",
   "execution_count": 203,
   "id": "f7dc78e2",
   "metadata": {
    "id": "f7dc78e2",
    "outputId": "237c5d4b-6fdf-44bd-e050-0351988b9f7e"
   },
   "outputs": [
    {
     "data": {
      "text/plain": [
       "count     8156.000000\n",
       "mean     10727.507775\n",
       "std       7520.667245\n",
       "min          0.000000\n",
       "25%       5047.833926\n",
       "50%       8699.416475\n",
       "75%      14500.978291\n",
       "max      35000.000000\n",
       "Name: EAD, dtype: float64"
      ]
     },
     "execution_count": 203,
     "metadata": {},
     "output_type": "execute_result"
    }
   ],
   "source": [
    "testing_outcome['EAD'].describe()"
   ]
  },
  {
   "cell_type": "markdown",
   "id": "Pt4fzbYRNcJt",
   "metadata": {
    "id": "Pt4fzbYRNcJt"
   },
   "source": [
    "## Calculate results of PD_Model"
   ]
  },
  {
   "cell_type": "code",
   "execution_count": 207,
   "id": "d88ef8e0",
   "metadata": {
    "id": "d88ef8e0",
    "outputId": "0dc48054-19af-4ee9-fd05-0b95db4dc277"
   },
   "outputs": [
    {
     "data": {
      "text/plain": [
       "Index(['grade:A', 'grade:B', 'grade:C', 'grade:D', 'grade:E', 'grade:F',\n",
       "       'home_ownership:OWN', 'home_ownership:MORTGAGE', 'addr_state:NM_VA',\n",
       "       'addr_state:OK_TN_MO_LA_MD_NC',\n",
       "       ...\n",
       "       'mths_since_last_delinq:>=57', 'mths_since_last_record:0-90',\n",
       "       'mths_since_last_record:90-120', 'mths_since_last_record:120-127',\n",
       "       'mths_since_last_record:>=127', 'loan_amnt', 'funded_amnt', 'int_rate',\n",
       "       'installment', 'total_rec_prncp'],\n",
       "      dtype='object', length=131)"
      ]
     },
     "execution_count": 207,
     "metadata": {},
     "output_type": "execute_result"
    }
   ],
   "source": [
    "testing_sample.columns"
   ]
  },
  {
   "cell_type": "markdown",
   "id": "kKSu0aDWNrye",
   "metadata": {
    "id": "kKSu0aDWNrye"
   },
   "source": [
    "### Make sure you pass only those columns to the PD_Model which you have passed in PD_Model while model training"
   ]
  },
  {
   "cell_type": "code",
   "execution_count": 209,
   "id": "7b1f621d",
   "metadata": {
    "id": "7b1f621d"
   },
   "outputs": [],
   "source": [
    "testing_sample.drop('total_rec_prncp',axis=1,inplace=True)"
   ]
  },
  {
   "cell_type": "code",
   "execution_count": 211,
   "id": "b6f61857",
   "metadata": {
    "id": "b6f61857"
   },
   "outputs": [],
   "source": [
    "reg_pd = pickle.load(open('pd_model_gradient.sav','rb'))"
   ]
  },
  {
   "cell_type": "code",
   "execution_count": 213,
   "id": "e28b11da",
   "metadata": {
    "id": "e28b11da",
    "outputId": "799914ea-95b9-4e62-e85e-9a24852bc130"
   },
   "outputs": [
    {
     "data": {
      "text/plain": [
       "array([0.13483018, 0.13483018, 0.13483018, ..., 0.13483018, 0.13483018,\n",
       "       0.10832582])"
      ]
     },
     "execution_count": 213,
     "metadata": {},
     "output_type": "execute_result"
    }
   ],
   "source": [
    "reg_pd.predict_proba(testing_sample)[:][:,0]"
   ]
  },
  {
   "cell_type": "code",
   "execution_count": 215,
   "id": "c9a924bf",
   "metadata": {
    "id": "c9a924bf"
   },
   "outputs": [],
   "source": [
    "testing_outcome['PD'] = reg_pd.predict_proba(testing_sample)[:][:,0]"
   ]
  },
  {
   "cell_type": "code",
   "execution_count": 217,
   "id": "6ab149a8",
   "metadata": {
    "id": "6ab149a8",
    "outputId": "6600ebdb-48d2-46bd-8a13-aa15aeeaf6db"
   },
   "outputs": [
    {
     "data": {
      "text/html": [
       "<div>\n",
       "<style scoped>\n",
       "    .dataframe tbody tr th:only-of-type {\n",
       "        vertical-align: middle;\n",
       "    }\n",
       "\n",
       "    .dataframe tbody tr th {\n",
       "        vertical-align: top;\n",
       "    }\n",
       "\n",
       "    .dataframe thead th {\n",
       "        text-align: right;\n",
       "    }\n",
       "</style>\n",
       "<table border=\"1\" class=\"dataframe\">\n",
       "  <thead>\n",
       "    <tr style=\"text-align: right;\">\n",
       "      <th></th>\n",
       "      <th>recovery_rate_stage_1</th>\n",
       "      <th>recovery_rate_stage_2</th>\n",
       "      <th>recovery_rate</th>\n",
       "      <th>LGD</th>\n",
       "      <th>CCF</th>\n",
       "      <th>EAD</th>\n",
       "      <th>PD</th>\n",
       "    </tr>\n",
       "  </thead>\n",
       "  <tbody>\n",
       "    <tr>\n",
       "      <th>0</th>\n",
       "      <td>1</td>\n",
       "      <td>0.066186</td>\n",
       "      <td>0.066186</td>\n",
       "      <td>0.933814</td>\n",
       "      <td>0.559584</td>\n",
       "      <td>8393.759820</td>\n",
       "      <td>0.134830</td>\n",
       "    </tr>\n",
       "    <tr>\n",
       "      <th>1</th>\n",
       "      <td>0</td>\n",
       "      <td>0.047874</td>\n",
       "      <td>0.000000</td>\n",
       "      <td>1.000000</td>\n",
       "      <td>0.377057</td>\n",
       "      <td>4524.681272</td>\n",
       "      <td>0.134830</td>\n",
       "    </tr>\n",
       "    <tr>\n",
       "      <th>2</th>\n",
       "      <td>0</td>\n",
       "      <td>0.159147</td>\n",
       "      <td>0.000000</td>\n",
       "      <td>1.000000</td>\n",
       "      <td>0.902259</td>\n",
       "      <td>15631.629299</td>\n",
       "      <td>0.134830</td>\n",
       "    </tr>\n",
       "    <tr>\n",
       "      <th>3</th>\n",
       "      <td>1</td>\n",
       "      <td>0.057790</td>\n",
       "      <td>0.057790</td>\n",
       "      <td>0.942210</td>\n",
       "      <td>0.513916</td>\n",
       "      <td>2569.582343</td>\n",
       "      <td>0.094999</td>\n",
       "    </tr>\n",
       "    <tr>\n",
       "      <th>4</th>\n",
       "      <td>0</td>\n",
       "      <td>0.094851</td>\n",
       "      <td>0.000000</td>\n",
       "      <td>1.000000</td>\n",
       "      <td>0.621515</td>\n",
       "      <td>4739.051819</td>\n",
       "      <td>0.127204</td>\n",
       "    </tr>\n",
       "  </tbody>\n",
       "</table>\n",
       "</div>"
      ],
      "text/plain": [
       "   recovery_rate_stage_1  recovery_rate_stage_2  recovery_rate       LGD  \\\n",
       "0                      1               0.066186       0.066186  0.933814   \n",
       "1                      0               0.047874       0.000000  1.000000   \n",
       "2                      0               0.159147       0.000000  1.000000   \n",
       "3                      1               0.057790       0.057790  0.942210   \n",
       "4                      0               0.094851       0.000000  1.000000   \n",
       "\n",
       "        CCF           EAD        PD  \n",
       "0  0.559584   8393.759820  0.134830  \n",
       "1  0.377057   4524.681272  0.134830  \n",
       "2  0.902259  15631.629299  0.134830  \n",
       "3  0.513916   2569.582343  0.094999  \n",
       "4  0.621515   4739.051819  0.127204  "
      ]
     },
     "execution_count": 217,
     "metadata": {},
     "output_type": "execute_result"
    }
   ],
   "source": [
    "testing_outcome.head()"
   ]
  },
  {
   "cell_type": "code",
   "execution_count": 219,
   "id": "2e236d74",
   "metadata": {
    "id": "2e236d74",
    "outputId": "617045cf-6328-493d-e345-bd6b7c9b25b7"
   },
   "outputs": [
    {
     "data": {
      "text/plain": [
       "count    8156.000000\n",
       "mean        0.116843\n",
       "std         0.016834\n",
       "min         0.094999\n",
       "25%         0.094999\n",
       "50%         0.112397\n",
       "75%         0.134830\n",
       "max         0.134830\n",
       "Name: PD, dtype: float64"
      ]
     },
     "execution_count": 219,
     "metadata": {},
     "output_type": "execute_result"
    }
   ],
   "source": [
    "testing_outcome['PD'].describe()"
   ]
  },
  {
   "cell_type": "code",
   "execution_count": 221,
   "id": "05ded910",
   "metadata": {
    "id": "05ded910"
   },
   "outputs": [],
   "source": [
    "testing_outcome['EL'] =testing_outcome['PD']*testing_outcome['LGD']*testing_outcome['EAD']"
   ]
  },
  {
   "cell_type": "code",
   "execution_count": 223,
   "id": "94f3aace",
   "metadata": {
    "id": "94f3aace",
    "outputId": "488543fb-690e-42cb-be75-2bed8d9e9243"
   },
   "outputs": [
    {
     "data": {
      "text/html": [
       "<div>\n",
       "<style scoped>\n",
       "    .dataframe tbody tr th:only-of-type {\n",
       "        vertical-align: middle;\n",
       "    }\n",
       "\n",
       "    .dataframe tbody tr th {\n",
       "        vertical-align: top;\n",
       "    }\n",
       "\n",
       "    .dataframe thead th {\n",
       "        text-align: right;\n",
       "    }\n",
       "</style>\n",
       "<table border=\"1\" class=\"dataframe\">\n",
       "  <thead>\n",
       "    <tr style=\"text-align: right;\">\n",
       "      <th></th>\n",
       "      <th>recovery_rate_stage_1</th>\n",
       "      <th>recovery_rate_stage_2</th>\n",
       "      <th>recovery_rate</th>\n",
       "      <th>LGD</th>\n",
       "      <th>CCF</th>\n",
       "      <th>EAD</th>\n",
       "      <th>PD</th>\n",
       "      <th>EL</th>\n",
       "    </tr>\n",
       "  </thead>\n",
       "  <tbody>\n",
       "    <tr>\n",
       "      <th>0</th>\n",
       "      <td>1</td>\n",
       "      <td>0.066186</td>\n",
       "      <td>0.066186</td>\n",
       "      <td>0.933814</td>\n",
       "      <td>0.559584</td>\n",
       "      <td>8393.759820</td>\n",
       "      <td>0.134830</td>\n",
       "      <td>1056.827483</td>\n",
       "    </tr>\n",
       "    <tr>\n",
       "      <th>1</th>\n",
       "      <td>0</td>\n",
       "      <td>0.047874</td>\n",
       "      <td>0.000000</td>\n",
       "      <td>1.000000</td>\n",
       "      <td>0.377057</td>\n",
       "      <td>4524.681272</td>\n",
       "      <td>0.134830</td>\n",
       "      <td>610.063589</td>\n",
       "    </tr>\n",
       "    <tr>\n",
       "      <th>2</th>\n",
       "      <td>0</td>\n",
       "      <td>0.159147</td>\n",
       "      <td>0.000000</td>\n",
       "      <td>1.000000</td>\n",
       "      <td>0.902259</td>\n",
       "      <td>15631.629299</td>\n",
       "      <td>0.134830</td>\n",
       "      <td>2107.615388</td>\n",
       "    </tr>\n",
       "    <tr>\n",
       "      <th>3</th>\n",
       "      <td>1</td>\n",
       "      <td>0.057790</td>\n",
       "      <td>0.057790</td>\n",
       "      <td>0.942210</td>\n",
       "      <td>0.513916</td>\n",
       "      <td>2569.582343</td>\n",
       "      <td>0.094999</td>\n",
       "      <td>230.001530</td>\n",
       "    </tr>\n",
       "    <tr>\n",
       "      <th>4</th>\n",
       "      <td>0</td>\n",
       "      <td>0.094851</td>\n",
       "      <td>0.000000</td>\n",
       "      <td>1.000000</td>\n",
       "      <td>0.621515</td>\n",
       "      <td>4739.051819</td>\n",
       "      <td>0.127204</td>\n",
       "      <td>602.827643</td>\n",
       "    </tr>\n",
       "  </tbody>\n",
       "</table>\n",
       "</div>"
      ],
      "text/plain": [
       "   recovery_rate_stage_1  recovery_rate_stage_2  recovery_rate       LGD  \\\n",
       "0                      1               0.066186       0.066186  0.933814   \n",
       "1                      0               0.047874       0.000000  1.000000   \n",
       "2                      0               0.159147       0.000000  1.000000   \n",
       "3                      1               0.057790       0.057790  0.942210   \n",
       "4                      0               0.094851       0.000000  1.000000   \n",
       "\n",
       "        CCF           EAD        PD           EL  \n",
       "0  0.559584   8393.759820  0.134830  1056.827483  \n",
       "1  0.377057   4524.681272  0.134830   610.063589  \n",
       "2  0.902259  15631.629299  0.134830  2107.615388  \n",
       "3  0.513916   2569.582343  0.094999   230.001530  \n",
       "4  0.621515   4739.051819  0.127204   602.827643  "
      ]
     },
     "execution_count": 223,
     "metadata": {},
     "output_type": "execute_result"
    }
   ],
   "source": [
    "testing_outcome.head()"
   ]
  },
  {
   "cell_type": "code",
   "execution_count": 225,
   "id": "c9d1355f",
   "metadata": {
    "id": "c9d1355f"
   },
   "outputs": [],
   "source": [
    "testing_outcome['Funded_amt'] = testing_sample['funded_amnt'].values"
   ]
  },
  {
   "cell_type": "code",
   "execution_count": 227,
   "id": "740b5d63",
   "metadata": {
    "id": "740b5d63",
    "outputId": "96e1b4bf-db67-4cb1-d09c-52a2db78e52a"
   },
   "outputs": [
    {
     "data": {
      "text/html": [
       "<div>\n",
       "<style scoped>\n",
       "    .dataframe tbody tr th:only-of-type {\n",
       "        vertical-align: middle;\n",
       "    }\n",
       "\n",
       "    .dataframe tbody tr th {\n",
       "        vertical-align: top;\n",
       "    }\n",
       "\n",
       "    .dataframe thead th {\n",
       "        text-align: right;\n",
       "    }\n",
       "</style>\n",
       "<table border=\"1\" class=\"dataframe\">\n",
       "  <thead>\n",
       "    <tr style=\"text-align: right;\">\n",
       "      <th></th>\n",
       "      <th>recovery_rate_stage_1</th>\n",
       "      <th>recovery_rate_stage_2</th>\n",
       "      <th>recovery_rate</th>\n",
       "      <th>LGD</th>\n",
       "      <th>CCF</th>\n",
       "      <th>EAD</th>\n",
       "      <th>PD</th>\n",
       "      <th>EL</th>\n",
       "      <th>Funded_amt</th>\n",
       "    </tr>\n",
       "  </thead>\n",
       "  <tbody>\n",
       "    <tr>\n",
       "      <th>0</th>\n",
       "      <td>1</td>\n",
       "      <td>0.066186</td>\n",
       "      <td>0.066186</td>\n",
       "      <td>0.933814</td>\n",
       "      <td>0.559584</td>\n",
       "      <td>8393.759820</td>\n",
       "      <td>0.134830</td>\n",
       "      <td>1056.827483</td>\n",
       "      <td>15000</td>\n",
       "    </tr>\n",
       "    <tr>\n",
       "      <th>1</th>\n",
       "      <td>0</td>\n",
       "      <td>0.047874</td>\n",
       "      <td>0.000000</td>\n",
       "      <td>1.000000</td>\n",
       "      <td>0.377057</td>\n",
       "      <td>4524.681272</td>\n",
       "      <td>0.134830</td>\n",
       "      <td>610.063589</td>\n",
       "      <td>12000</td>\n",
       "    </tr>\n",
       "    <tr>\n",
       "      <th>2</th>\n",
       "      <td>0</td>\n",
       "      <td>0.159147</td>\n",
       "      <td>0.000000</td>\n",
       "      <td>1.000000</td>\n",
       "      <td>0.902259</td>\n",
       "      <td>15631.629299</td>\n",
       "      <td>0.134830</td>\n",
       "      <td>2107.615388</td>\n",
       "      <td>17325</td>\n",
       "    </tr>\n",
       "    <tr>\n",
       "      <th>3</th>\n",
       "      <td>1</td>\n",
       "      <td>0.057790</td>\n",
       "      <td>0.057790</td>\n",
       "      <td>0.942210</td>\n",
       "      <td>0.513916</td>\n",
       "      <td>2569.582343</td>\n",
       "      <td>0.094999</td>\n",
       "      <td>230.001530</td>\n",
       "      <td>5000</td>\n",
       "    </tr>\n",
       "    <tr>\n",
       "      <th>4</th>\n",
       "      <td>0</td>\n",
       "      <td>0.094851</td>\n",
       "      <td>0.000000</td>\n",
       "      <td>1.000000</td>\n",
       "      <td>0.621515</td>\n",
       "      <td>4739.051819</td>\n",
       "      <td>0.127204</td>\n",
       "      <td>602.827643</td>\n",
       "      <td>7625</td>\n",
       "    </tr>\n",
       "  </tbody>\n",
       "</table>\n",
       "</div>"
      ],
      "text/plain": [
       "   recovery_rate_stage_1  recovery_rate_stage_2  recovery_rate       LGD  \\\n",
       "0                      1               0.066186       0.066186  0.933814   \n",
       "1                      0               0.047874       0.000000  1.000000   \n",
       "2                      0               0.159147       0.000000  1.000000   \n",
       "3                      1               0.057790       0.057790  0.942210   \n",
       "4                      0               0.094851       0.000000  1.000000   \n",
       "\n",
       "        CCF           EAD        PD           EL  Funded_amt  \n",
       "0  0.559584   8393.759820  0.134830  1056.827483       15000  \n",
       "1  0.377057   4524.681272  0.134830   610.063589       12000  \n",
       "2  0.902259  15631.629299  0.134830  2107.615388       17325  \n",
       "3  0.513916   2569.582343  0.094999   230.001530        5000  \n",
       "4  0.621515   4739.051819  0.127204   602.827643        7625  "
      ]
     },
     "execution_count": 227,
     "metadata": {},
     "output_type": "execute_result"
    }
   ],
   "source": [
    "testing_outcome.head()"
   ]
  },
  {
   "cell_type": "code",
   "execution_count": 229,
   "id": "2d857f8d",
   "metadata": {
    "id": "2d857f8d",
    "outputId": "898f49b9-67ff-4b16-a560-84bc38b68a88"
   },
   "outputs": [
    {
     "data": {
      "text/html": [
       "<div>\n",
       "<style scoped>\n",
       "    .dataframe tbody tr th:only-of-type {\n",
       "        vertical-align: middle;\n",
       "    }\n",
       "\n",
       "    .dataframe tbody tr th {\n",
       "        vertical-align: top;\n",
       "    }\n",
       "\n",
       "    .dataframe thead th {\n",
       "        text-align: right;\n",
       "    }\n",
       "</style>\n",
       "<table border=\"1\" class=\"dataframe\">\n",
       "  <thead>\n",
       "    <tr style=\"text-align: right;\">\n",
       "      <th></th>\n",
       "      <th>Funded_amt</th>\n",
       "      <th>PD</th>\n",
       "      <th>LGD</th>\n",
       "      <th>EAD</th>\n",
       "      <th>EL</th>\n",
       "    </tr>\n",
       "  </thead>\n",
       "  <tbody>\n",
       "    <tr>\n",
       "      <th>0</th>\n",
       "      <td>15000</td>\n",
       "      <td>0.134830</td>\n",
       "      <td>0.933814</td>\n",
       "      <td>8393.759820</td>\n",
       "      <td>1056.827483</td>\n",
       "    </tr>\n",
       "    <tr>\n",
       "      <th>1</th>\n",
       "      <td>12000</td>\n",
       "      <td>0.134830</td>\n",
       "      <td>1.000000</td>\n",
       "      <td>4524.681272</td>\n",
       "      <td>610.063589</td>\n",
       "    </tr>\n",
       "    <tr>\n",
       "      <th>2</th>\n",
       "      <td>17325</td>\n",
       "      <td>0.134830</td>\n",
       "      <td>1.000000</td>\n",
       "      <td>15631.629299</td>\n",
       "      <td>2107.615388</td>\n",
       "    </tr>\n",
       "    <tr>\n",
       "      <th>3</th>\n",
       "      <td>5000</td>\n",
       "      <td>0.094999</td>\n",
       "      <td>0.942210</td>\n",
       "      <td>2569.582343</td>\n",
       "      <td>230.001530</td>\n",
       "    </tr>\n",
       "    <tr>\n",
       "      <th>4</th>\n",
       "      <td>7625</td>\n",
       "      <td>0.127204</td>\n",
       "      <td>1.000000</td>\n",
       "      <td>4739.051819</td>\n",
       "      <td>602.827643</td>\n",
       "    </tr>\n",
       "  </tbody>\n",
       "</table>\n",
       "</div>"
      ],
      "text/plain": [
       "   Funded_amt        PD       LGD           EAD           EL\n",
       "0       15000  0.134830  0.933814   8393.759820  1056.827483\n",
       "1       12000  0.134830  1.000000   4524.681272   610.063589\n",
       "2       17325  0.134830  1.000000  15631.629299  2107.615388\n",
       "3        5000  0.094999  0.942210   2569.582343   230.001530\n",
       "4        7625  0.127204  1.000000   4739.051819   602.827643"
      ]
     },
     "execution_count": 229,
     "metadata": {},
     "output_type": "execute_result"
    }
   ],
   "source": [
    "testing_outcome_final =testing_outcome[['Funded_amt','PD','LGD','EAD','EL']]\n",
    "testing_outcome_final.head()"
   ]
  },
  {
   "cell_type": "markdown",
   "id": "mqy-1fCpQMrG",
   "metadata": {
    "id": "mqy-1fCpQMrG"
   },
   "source": [
    "record:0---When the Funded amount is 15000 the bank suffers a loss of 2117.6 from that customer..\n",
    "\n",
    "record:1---When the Funded amount is 12000 the bank suffers a loss of 1036.1 from that customer..\n",
    "\n",
    "record:3---When the Funded amount is 17325 the bank suffers a loss of 4657.0 from that customer..\n",
    "\n",
    "\n",
    "and so on......\n",
    "\n"
   ]
  },
  {
   "cell_type": "markdown",
   "id": "3OnE1O1cQsd4",
   "metadata": {
    "id": "3OnE1O1cQsd4"
   },
   "source": [
    "## We will get the overall expected_loss suffered by the bank"
   ]
  },
  {
   "cell_type": "code",
   "execution_count": 231,
   "id": "c361d9e2",
   "metadata": {
    "id": "c361d9e2",
    "outputId": "e389c54f-5914-4b5e-ccc4-0f042912e0d8"
   },
   "outputs": [
    {
     "data": {
      "text/plain": [
       "0.08333168868908597"
      ]
     },
     "execution_count": 231,
     "metadata": {},
     "output_type": "execute_result"
    }
   ],
   "source": [
    "testing_outcome_final['EL'].sum()/testing_outcome_final['Funded_amt'].sum()"
   ]
  },
  {
   "cell_type": "markdown",
   "id": "ZyjniZwPPTC1",
   "metadata": {
    "id": "ZyjniZwPPTC1"
   },
   "source": [
    "We observe that the Bank suffers an Expected loss of 8.3% while giving loans to it's customers"
   ]
  },
  {
   "cell_type": "markdown",
   "id": "LXcfIpY0PMav",
   "metadata": {
    "id": "LXcfIpY0PMav"
   },
   "source": [
    "#observed EL is between 2% to 15% based on this banks can be aggressive or lenient while giving loans"
   ]
  }
 ],
 "metadata": {
  "colab": {
   "provenance": []
  },
  "kernelspec": {
   "display_name": "Python 3 (ipykernel)",
   "language": "python",
   "name": "python3"
  },
  "language_info": {
   "codemirror_mode": {
    "name": "ipython",
    "version": 3
   },
   "file_extension": ".py",
   "mimetype": "text/x-python",
   "name": "python",
   "nbconvert_exporter": "python",
   "pygments_lexer": "ipython3",
   "version": "3.12.4"
  }
 },
 "nbformat": 4,
 "nbformat_minor": 5
}
